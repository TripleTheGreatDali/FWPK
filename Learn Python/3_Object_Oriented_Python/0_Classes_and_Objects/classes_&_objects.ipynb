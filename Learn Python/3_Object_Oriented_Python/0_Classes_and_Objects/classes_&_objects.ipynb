{
 "cells": [
  {
   "cell_type": "markdown",
   "id": "096ba57a",
   "metadata": {},
   "source": [
    "## Python Classes & Objects"
   ]
  },
  {
   "cell_type": "markdown",
   "id": "c9fbbe13",
   "metadata": {},
   "source": [
    "<h5> A Class is a blueprint for creating objects. Defines attributes (variables) and methods (functions) that its object will have.\n",
    "</h5>"
   ]
  },
  {
   "cell_type": "markdown",
   "id": "4bf441df",
   "metadata": {},
   "source": [
    "## An object the instance of a class. Each object can have different values for its attributes.\n"
   ]
  },
  {
   "cell_type": "code",
   "execution_count": 3,
   "id": "8e580727",
   "metadata": {},
   "outputs": [],
   "source": [
    "# Step 1: Class\n",
    "class ClassName:\n",
    "    # attributes\n",
    "    # methods\n",
    "    pass"
   ]
  },
  {
   "cell_type": "code",
   "execution_count": 4,
   "id": "eb8c685c",
   "metadata": {},
   "outputs": [],
   "source": [
    "# Steps 2: Objects\n",
    "obj = ClassName()"
   ]
  },
  {
   "cell_type": "code",
   "execution_count": 1,
   "id": "d6460415",
   "metadata": {},
   "outputs": [],
   "source": [
    "class Person:\n",
    "    species = \"Homo Sapiends\" # class attributes\n",
    "\n",
    "    def __init__(self, name, age):\n",
    "        self.name = name\n",
    "        self.age  = age"
   ]
  },
  {
   "cell_type": "code",
   "execution_count": 6,
   "id": "b058134c",
   "metadata": {},
   "outputs": [],
   "source": [
    "# Methods\n",
    "class Person:\n",
    "    def greet(self):\n",
    "        print(f\"Hello, my name is {self.name}\")"
   ]
  },
  {
   "cell_type": "code",
   "execution_count": 8,
   "id": "01e718bc",
   "metadata": {},
   "outputs": [],
   "source": [
    "# The The __init__ Method\n",
    "# Special method called when an object is created.\n",
    "# Used to initialize instance attributes."
   ]
  },
  {
   "cell_type": "code",
   "execution_count": 10,
   "id": "f4f9caf4",
   "metadata": {},
   "outputs": [],
   "source": [
    "# p1 = Person(\"Alice\", 25)\n"
   ]
  },
  {
   "cell_type": "code",
   "execution_count": 11,
   "id": "6d649180",
   "metadata": {},
   "outputs": [
    {
     "name": "stdout",
     "output_type": "stream",
     "text": [
      "Red Toyota with 4 wheels\n"
     ]
    }
   ],
   "source": [
    "class Car:\n",
    "    wheels = 4  # class attribute\n",
    "\n",
    "    def __init__(self, brand, color):\n",
    "        self.brand = brand\n",
    "        self.color = color\n",
    "\n",
    "    def info(self):\n",
    "        print(f\"{self.color} {self.brand} with {self.wheels} wheels\")\n",
    "\n",
    "my_car = Car(\"Toyota\", \"Red\")\n",
    "my_car.info()\n"
   ]
  },
  {
   "cell_type": "code",
   "execution_count": 12,
   "id": "1a724e1f",
   "metadata": {},
   "outputs": [],
   "source": [
    "# # Solve a questions\n",
    "# Create a class called Book with attributes title, author, and pages, and a method book_info() that prints the book’s details in the format \"Title: <title>, Author: <author>, Pages: <pages>\". Then, create two objects of the Book class with different values for the attributes and call the book_info() method for both objects to display their information."
   ]
  },
  {
   "cell_type": "code",
   "execution_count": 13,
   "id": "4ec8f74a",
   "metadata": {},
   "outputs": [
    {
     "name": "stdout",
     "output_type": "stream",
     "text": [
      "Title: 1984, Author: George Orwell, Pages: 328\n",
      "Title: To Kill a Mockingbird, Author: Harper Lee, Pages: 281\n"
     ]
    }
   ],
   "source": [
    "class Book:\n",
    "    def __init__(self, title, author, pages):\n",
    "        self.title = title\n",
    "        self.author = author\n",
    "        self.pages = pages\n",
    "\n",
    "    def book_info(self):\n",
    "        print(f\"Title: {self.title}, Author: {self.author}, Pages: {self.pages}\")\n",
    "\n",
    "# Creating objects\n",
    "book1 = Book(\"1984\", \"George Orwell\", 328)\n",
    "book2 = Book(\"To Kill a Mockingbird\", \"Harper Lee\", 281)\n",
    "\n",
    "# Display info\n",
    "book1.book_info()\n",
    "book2.book_info()\n"
   ]
  },
  {
   "cell_type": "code",
   "execution_count": 14,
   "id": "299dccdd",
   "metadata": {},
   "outputs": [
    {
     "name": "stdout",
     "output_type": "stream",
     "text": [
      "Title: Dali, Author: Md Foysal Ahmed, Pages: 3333333333333\n",
      "Title: Dali2, Author: MFA, Pages: 532523\n"
     ]
    }
   ],
   "source": [
    "class Book:\n",
    "    def __init__(self, title, author, pages):\n",
    "        self.title = title\n",
    "        self.author = author\n",
    "        self.pages = pages\n",
    "\n",
    "    def book_info(self):\n",
    "        print(f\"Title: {self.title}, Author: {self.author}, Pages: {self.pages}\")\n",
    "\n",
    "# Take input from the user\n",
    "title1 = input(\"Enter the first book name: \")\n",
    "author1 = input(\"Enter the author name: \")\n",
    "pages1 = input(\"Enter total pages: \")\n",
    "\n",
    "book1 = Book(title1, author1, pages1)\n",
    "\n",
    "title2 = input(\"Enter the second book name: \")\n",
    "author2 = input(\"Enter the author name: \")\n",
    "pages2 = input(\"Enter total pages: \")\n",
    "\n",
    "book2 = Book(title2, author2, pages2)\n",
    "\n",
    "# Display info\n",
    "book1.book_info()\n",
    "book2.book_info()\n"
   ]
  },
  {
   "cell_type": "code",
   "execution_count": 21,
   "id": "ffb48aca",
   "metadata": {},
   "outputs": [
    {
     "name": "stdout",
     "output_type": "stream",
     "text": [
      "\n",
      "Books you entered:\n",
      "Title: wrwr, Author: dfsdaf, Pages: edfewrt\n",
      "Title: eftedfdsf, Author: dfdw, Pages: f\n",
      "Title: ddfdsf, Author: dfsdf, Pages: sd\n",
      "Title: dfdsf, Author: dsf, Pages: sdf\n",
      "Title: 3r5, Author: 32, Pages: 452345325\n",
      "Title: 325, Author: 23, Pages: 523\n",
      "Title: 5, Author: 235, Pages: 2345\n",
      "Title: , Author: fg, Pages: g\n",
      "Title: sdg, Author: sd, Pages: gsd\n",
      "Title: g, Author: dsfg, Pages: sd\n",
      "Title: sd, Author: gsdgsdg, Pages: \n",
      "Title: , Author: , Pages: 3535\n",
      "Title: , Author: , Pages: \n",
      "Title: , Author: , Pages: \n",
      "Title: , Author: , Pages: \n",
      "Title: , Author: , Pages: \n"
     ]
    }
   ],
   "source": [
    "class Book:\n",
    "    def __init__(self, title, author, pages):\n",
    "        self.title = title\n",
    "        self.author = author\n",
    "        self.pages = pages\n",
    "\n",
    "    def book_info(self):\n",
    "        print(f\"Title: {self.title}, Author: {self.author}, Pages: {self.pages}\")\n",
    "\n",
    "books = []\n",
    "\n",
    "print(\"Enter book details. Type 'stop' for the book name to finish.\")\n",
    "\n",
    "while True:\n",
    "    title = input(\"Enter book name: \")\n",
    "    if title.strip().lower() == 'stop':  # strip removes extra spaces\n",
    "        break\n",
    "    author = input(\"Enter author name: \")\n",
    "    pages = input(\"Enter total pages: \")\n",
    "    books.append(Book(title, author, pages))\n",
    "\n",
    "print(\"\\nBooks you entered:\")\n",
    "for book in books:\n",
    "    book.book_info()\n"
   ]
  },
  {
   "cell_type": "code",
   "execution_count": null,
   "id": "435d26b4",
   "metadata": {},
   "outputs": [],
   "source": []
  }
 ],
 "metadata": {
  "kernelspec": {
   "display_name": "AI",
   "language": "python",
   "name": "python3"
  },
  "language_info": {
   "codemirror_mode": {
    "name": "ipython",
    "version": 3
   },
   "file_extension": ".py",
   "mimetype": "text/x-python",
   "name": "python",
   "nbconvert_exporter": "python",
   "pygments_lexer": "ipython3",
   "version": "3.12.11"
  }
 },
 "nbformat": 4,
 "nbformat_minor": 5
}
