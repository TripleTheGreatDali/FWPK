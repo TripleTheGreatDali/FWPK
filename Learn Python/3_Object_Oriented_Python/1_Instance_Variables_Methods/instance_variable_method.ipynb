{
 "cells": [
  {
   "cell_type": "markdown",
   "id": "2f321212",
   "metadata": {},
   "source": [
    "# Instance Variable Methods"
   ]
  },
  {
   "cell_type": "code",
   "execution_count": 1,
   "id": "2ac6a750",
   "metadata": {},
   "outputs": [
    {
     "name": "stdout",
     "output_type": "stream",
     "text": [
      "Hello, my name is Alice and I am 25 years old.\n",
      "Hello, my name is Bob and I am 30 years old.\n",
      "Happy Birthday Alice! You are now 26 years old.\n",
      "Hello, my name is Alice and I am 26 years old.\n"
     ]
    }
   ],
   "source": [
    "# Define a class called Person\n",
    "class Person:\n",
    "    # __init__ method initializes instance variables for each object\n",
    "    def __init__(self, name, age):\n",
    "        self.name = name  # Instance variable: stores the name of the person\n",
    "        self.age = age    # Instance variable: stores the age of the person\n",
    "\n",
    "    # Instance method: prints a greeting message using instance variables\n",
    "    def greet(self):\n",
    "        print(f\"Hello, my name is {self.name} and I am {self.age} years old.\")\n",
    "\n",
    "    # Instance method: increments the age by 1\n",
    "    def have_birthday(self):\n",
    "        self.age += 1\n",
    "        print(f\"Happy Birthday {self.name}! You are now {self.age} years old.\")\n",
    "\n",
    "# Create objects (instances) of the Person class\n",
    "person1 = Person(\"Alice\", 25)\n",
    "person2 = Person(\"Bob\", 30)\n",
    "\n",
    "# Call instance methods on the objects\n",
    "person1.greet()          # Prints Alice's greeting\n",
    "person2.greet()          # Prints Bob's greeting\n",
    "\n",
    "# Simulate a birthday for Alice\n",
    "person1.have_birthday()  # Alice's age increases by 1\n",
    "person1.greet()          # Check updated age\n"
   ]
  },
  {
   "cell_type": "markdown",
   "id": "d26ce358",
   "metadata": {},
   "source": []
  }
 ],
 "metadata": {
  "kernelspec": {
   "display_name": "AI",
   "language": "python",
   "name": "python3"
  },
  "language_info": {
   "codemirror_mode": {
    "name": "ipython",
    "version": 3
   },
   "file_extension": ".py",
   "mimetype": "text/x-python",
   "name": "python",
   "nbconvert_exporter": "python",
   "pygments_lexer": "ipython3",
   "version": "3.12.11"
  }
 },
 "nbformat": 4,
 "nbformat_minor": 5
}
