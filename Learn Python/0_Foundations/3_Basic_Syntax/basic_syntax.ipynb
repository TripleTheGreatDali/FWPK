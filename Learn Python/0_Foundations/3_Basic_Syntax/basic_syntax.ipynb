{
 "cells": [
  {
   "cell_type": "markdown",
   "id": "20f8489e",
   "metadata": {},
   "source": [
    "# Basic Syntax"
   ]
  },
  {
   "cell_type": "code",
   "execution_count": 1,
   "id": "0628ecc4",
   "metadata": {},
   "outputs": [
    {
     "data": {
      "text/plain": [
       "'This is a multi-line comment\\n   that spans multiple lines.\\n   It is often used for documentation.'"
      ]
     },
     "execution_count": 1,
     "metadata": {},
     "output_type": "execute_result"
    }
   ],
   "source": [
    "# 1. Comments\n",
    "\"\"\"This is a multi-line comment\n",
    "   that spans multiple lines.\n",
    "   It is often used for documentation.\"\"\""
   ]
  },
  {
   "cell_type": "code",
   "execution_count": 2,
   "id": "f9532103",
   "metadata": {},
   "outputs": [
    {
     "name": "stdout",
     "output_type": "stream",
     "text": [
      "Hello, World!\n"
     ]
    }
   ],
   "source": [
    "# 2. Print Statements\n",
    "print(\"Hello, World!\")  # Output: Hello, World!"
   ]
  },
  {
   "cell_type": "code",
   "execution_count": 4,
   "id": "13d28895",
   "metadata": {},
   "outputs": [
    {
     "name": "stdout",
     "output_type": "stream",
     "text": [
      "This line is indented.\n"
     ]
    }
   ],
   "source": [
    "# 3. Indentations\n",
    "# Python uses indentation (spaces or tabs) to define code blocks.\n",
    "if True:\n",
    "    print(\"This line is indented.\")"
   ]
  },
  {
   "cell_type": "code",
   "execution_count": 5,
   "id": "4a608d98",
   "metadata": {},
   "outputs": [
    {
     "name": "stdout",
     "output_type": "stream",
     "text": [
      "10 3.14 Alice True\n"
     ]
    }
   ],
   "source": [
    "# 4. Variables\n",
    "x = 10  # Integer variable\n",
    "y = 3.14  # Float variable  \n",
    "name = \"Alice\"  # String variable\n",
    "is_active = True  # Boolean variable\n",
    "print(x, y, name, is_active)"
   ]
  },
  {
   "cell_type": "code",
   "execution_count": 7,
   "id": "716bbd2f",
   "metadata": {},
   "outputs": [
    {
     "name": "stdout",
     "output_type": "stream",
     "text": [
      "[1, 2, 3, 4, 5] {'name': 'Bob', 'age': 30}\n"
     ]
    }
   ],
   "source": [
    "# 5. Data Types\n",
    "# Common data types include int, float, str, bool, list, tuple, dict, set\n",
    "numbers = [1, 2, 3, 4, 5]  # List\n",
    "person = {\"name\": \"Bob\", \"age\": 30}  # Dictionary   \n",
    "print(numbers, person)"
   ]
  },
  {
   "cell_type": "code",
   "execution_count": 8,
   "id": "bae87fe8",
   "metadata": {},
   "outputs": [
    {
     "name": "stdout",
     "output_type": "stream",
     "text": [
      "You entered: \n"
     ]
    }
   ],
   "source": [
    "# 6. Input from User\n",
    "user_input = input(\"Enter something: \")\n",
    "print(\"You entered:\", user_input)"
   ]
  },
  {
   "cell_type": "code",
   "execution_count": 22,
   "id": "a1664b5a",
   "metadata": {},
   "outputs": [
    {
     "name": "stdout",
     "output_type": "stream",
     "text": [
      "Addition: 7\n",
      "Subtraction: 3\n",
      "Multiplication: 10\n",
      "Division: 2.5\n",
      "Floor Division: 2\n",
      "Modulus: 1\n",
      "Exponentiation: 25\n",
      "Equal: False\n",
      "Not Equal: True\n",
      "Greater Than: True\n",
      "Less Than: False\n",
      "Greater or Equal: True\n",
      "Less or Equal: False\n",
      "AND: True\n",
      "OR: True\n",
      "NOT: False\n",
      "Bitwise AND: 0\n",
      "Bitwise OR: 7\n",
      "Bitwise XOR: 7\n",
      "Bitwise NOT: -6\n",
      "Left Shift: 10\n",
      "Right Shift: 2\n",
      "Final value of c: 2\n",
      "This is a line.\n",
      "This is another line.\n",
      "This is a tab:\tSee the space.\n",
      "He said, \"Hello!\"\n",
      "It's a sunny day.\n",
      "Backslash: \\\n",
      "Overwrittenturn:\n",
      "Backspace: ABD\n",
      "Form Feed:\fNext page\n",
      "Vertical Tab:\u000bNext line\n",
      "Total: 21\n",
      "This is a string\n",
      "that spans multiple lines.\n",
      "C:\\Users\\Name\\Documents\n"
     ]
    }
   ],
   "source": [
    "# 7. Operators\n",
    "a = 5\n",
    "b = 2  \n",
    "print(\"Addition:\", a + b)          # 7\n",
    "print(\"Subtraction:\", a - b)       # 3 \n",
    "print(\"Multiplication:\", a * b)    # 10\n",
    "print(\"Division:\", a / b)          # 2.5    \n",
    "print(\"Floor Division:\", a // b)   # 2\n",
    "print(\"Modulus:\", a % b)           # 1  \n",
    "print(\"Exponentiation:\", a ** b)   # 25\n",
    "\n",
    "# Comparison:\n",
    "print(\"Equal:\", a == b)             # False\n",
    "print(\"Not Equal:\", a != b)         # True\n",
    "print(\"Greater Than:\", a > b)       # True\n",
    "print(\"Less Than:\", a < b)          # False\n",
    "print(\"Greater or Equal:\", a >= b)  # True\n",
    "print(\"Less or Equal:\", a <= b)     # False\n",
    "# Logical:\n",
    "print(\"AND:\", (a > 0) and (b > 0))  # True\n",
    "print(\"OR:\", (a > 0) or (b < 0))    # True\n",
    "print(\"NOT:\", not(a > 0))            # False\n",
    "# Bitwise:\n",
    "print(\"Bitwise AND:\", a & b)         # 0\n",
    "print(\"Bitwise OR:\", a | b)          # 7\n",
    "print(\"Bitwise XOR:\", a ^ b)         # 7\n",
    "print(\"Bitwise NOT:\", ~a)             # -6\n",
    "print(\"Left Shift:\", a << 1)         # 10\n",
    "print(\"Right Shift:\", a >> 1)        # 2\n",
    "# Assignment:\n",
    "c = a + b  # c is now 7\n",
    "c += 2     # c is now 9\n",
    "c *= 3     # c is now 27\n",
    "c -= 5     # c is now 22\n",
    "c /= 2     # c is now 11.0\n",
    "c %= 4     # c is now 3.0\n",
    "c //= 2    # c is now 1.0\n",
    "c **= 3    # c is now 1.0\n",
    "c = int(c) # convert c to int before bitwise operations\n",
    "c &= 1     # c is now 1\n",
    "c |= 2     # c is now 3\n",
    "c ^= 1     # c is now 2\n",
    "c <<= 1    # c is now 4\n",
    "c >>= 1    # c is now 2\n",
    "print(\"Final value of c:\", c)  # 2\n",
    "# 8. Escape Characters\n",
    "print(\"This is a line.\\nThis is another line.\")  # New line\n",
    "print(\"This is a tab:\\tSee the space.\")  # Tab space\n",
    "print(\"He said, \\\"Hello!\\\"\")  # Double quote\n",
    "print('It\\'s a sunny day.')  # Single quote\n",
    "print(\"Backslash: \\\\\")  # Backslash\n",
    "print(\"Carriage Return:\\rOverwritten\")  # Carriage return\n",
    "print(\"Backspace: ABC\\bD\")  # Backspace\n",
    "print(\"Form Feed:\\fNext page\")  # Form feed\n",
    "print(\"Vertical Tab:\\vNext line\")  # Vertical tab\n",
    "# 9. Line Continuation\n",
    "total = (1 + 2 + 3 +\n",
    "         4 + 5 + 6)\n",
    "print(\"Total:\", total)  # Output: Total: 21\n",
    "# 10. Multi-line Strings\n",
    "multi_line_str = \"\"\"This is a string\n",
    "that spans multiple lines.\"\"\"\n",
    "print(multi_line_str)\n",
    "# 11. Raw Strings\n",
    "raw_str = r\"C:\\Users\\Name\\Documents\"\n",
    "print(raw_str)  # Output: C:\\Users\\Name\\Documents\n",
    "# 12. Docstrings\n",
    "def example_function():\n",
    "    \"\"\"This is a docstring for the example_function.\"\"\"\n",
    "    pass    "
   ]
  },
  {
   "cell_type": "code",
   "execution_count": 14,
   "id": "dbc39114",
   "metadata": {},
   "outputs": [
    {
     "name": "stdout",
     "output_type": "stream",
     "text": [
      "x is positive.\n"
     ]
    }
   ],
   "source": [
    "# 8. Conditional Statements\n",
    "\n",
    "\n",
    "x = 10\n",
    "if x > 0:\n",
    "    print(\"x is positive.\")\n",
    "elif x == 0:\n",
    "    print(\"x is zero.\")\n",
    "else:\n",
    "    print(\"x is negative.\")\n",
    "    "
   ]
  },
  {
   "cell_type": "code",
   "execution_count": 16,
   "id": "b8d84a9d",
   "metadata": {},
   "outputs": [
    {
     "name": "stdout",
     "output_type": "stream",
     "text": [
      "0\n",
      "1\n",
      "2\n",
      "3\n",
      "4\n"
     ]
    }
   ],
   "source": [
    "# 9. Loops\n",
    "# For Loops\n",
    "for i in range(5):\n",
    "    print(i)"
   ]
  },
  {
   "cell_type": "code",
   "execution_count": 17,
   "id": "f0a27054",
   "metadata": {},
   "outputs": [
    {
     "name": "stdout",
     "output_type": "stream",
     "text": [
      "0\n",
      "1\n",
      "2\n",
      "3\n",
      "4\n"
     ]
    }
   ],
   "source": [
    "# While loop\n",
    "\n",
    "count = 0\n",
    "while count < 5:\n",
    "    print(count)\n",
    "    count += 1"
   ]
  },
  {
   "cell_type": "code",
   "execution_count": 19,
   "id": "08355198",
   "metadata": {},
   "outputs": [
    {
     "name": "stdout",
     "output_type": "stream",
     "text": [
      "Hello, Alice\n"
     ]
    }
   ],
   "source": [
    "# 10. Functions\n",
    "\n",
    "def great(name):\n",
    "    return \"Hello, \"+ name\n",
    "\n",
    "print(great(\"Alice\"))"
   ]
  },
  {
   "cell_type": "code",
   "execution_count": 20,
   "id": "cd8df054",
   "metadata": {},
   "outputs": [
    {
     "name": "stdout",
     "output_type": "stream",
     "text": [
      "Invalid number\n"
     ]
    }
   ],
   "source": [
    "# 11. Basic Error Handling\n",
    "\n",
    "try:\n",
    "    numbers = int(\"abc\")\n",
    "except ValueError:\n",
    "    print(\"Invalid number\")"
   ]
  },
  {
   "cell_type": "code",
   "execution_count": 21,
   "id": "a5d843a0",
   "metadata": {},
   "outputs": [],
   "source": [
    "# 12. Python File Structure\n",
    "\n",
    "def main():\n",
    "    print(\"Hello, Python!\")\n",
    "\n",
    "if __name__ == \"__main__\":\n",
    "    main"
   ]
  }
 ],
 "metadata": {
  "kernelspec": {
   "display_name": "AI",
   "language": "python",
   "name": "python3"
  },
  "language_info": {
   "codemirror_mode": {
    "name": "ipython",
    "version": 3
   },
   "file_extension": ".py",
   "mimetype": "text/x-python",
   "name": "python",
   "nbconvert_exporter": "python",
   "pygments_lexer": "ipython3",
   "version": "3.12.11"
  }
 },
 "nbformat": 4,
 "nbformat_minor": 5
}
