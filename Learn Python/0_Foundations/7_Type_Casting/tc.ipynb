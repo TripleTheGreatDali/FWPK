{
 "cells": [
  {
   "cell_type": "markdown",
   "id": "7d38a526",
   "metadata": {},
   "source": [
    "## Type Casting\n",
    "Type casting means converting one data type into another.\n",
    "Python has two types:\n",
    "\n",
    "Implicit casting (automatic)\n",
    "\n",
    "Explicit casting (manual using functions)"
   ]
  },
  {
   "cell_type": "code",
   "execution_count": 1,
   "id": "9e29b58c",
   "metadata": {},
   "outputs": [
    {
     "name": "stdout",
     "output_type": "stream",
     "text": [
      "7.5\n"
     ]
    }
   ],
   "source": [
    "# Python automatically converts smaller type into bigger type.\n",
    "\n",
    "x = 5\n",
    "y = 2.5\n",
    "\n",
    "z = x+y\n",
    "print(z)"
   ]
  },
  {
   "cell_type": "code",
   "execution_count": 2,
   "id": "4cdf10cb",
   "metadata": {},
   "outputs": [
    {
     "name": "stdout",
     "output_type": "stream",
     "text": [
      "10.0 <class 'float'>\n",
      "9 <class 'int'>\n",
      "123 <class 'str'>\n",
      "456 <class 'int'>\n"
     ]
    }
   ],
   "source": [
    "# Explicit Casting\n",
    "# int to float\n",
    "a = 10\n",
    "b = float(a)\n",
    "print(b, type(b))  # 10.0 <class 'float'>\n",
    "\n",
    "# float to int\n",
    "c = 9.8\n",
    "d = int(c)         # removes decimal part\n",
    "print(d, type(d))  # 9 <class 'int'>\n",
    "\n",
    "# number to string\n",
    "e = str(123)\n",
    "print(e, type(e))  # '123' <class 'str'>\n",
    "\n",
    "# string to int\n",
    "f = int(\"456\")\n",
    "print(f, type(f))  # 456 <class 'int'>\n"
   ]
  },
  {
   "cell_type": "code",
   "execution_count": 4,
   "id": "1d524ed1",
   "metadata": {},
   "outputs": [
    {
     "name": "stdout",
     "output_type": "stream",
     "text": [
      "As string: 6 <class 'str'>\n",
      "As int: 6 <class 'int'>\n",
      "As float: 5.0 <class 'float'>\n"
     ]
    }
   ],
   "source": [
    "# Common Casting Functions\n",
    "# int(x) → convert to integer\n",
    "\n",
    "# float(x) → convert to float\n",
    "\n",
    "# str(x) → convert to string\n",
    "\n",
    "# bool(x) → convert to boolean\n",
    "\n",
    "# list(x) → convert to list\n",
    "\n",
    "# tuple(x) → convert to tuple\n",
    "\n",
    "x = input(\"Enter a number: \")   # always string\n",
    "print(\"As string:\", x, type(x))\n",
    "\n",
    "x = int(x)   # cast to int\n",
    "print(\"As int:\", x, type(x))\n",
    "\n",
    "y = float(input(\"Enter a decimal: \"))\n",
    "print(\"As float:\", y, type(y))\n"
   ]
  },
  {
   "cell_type": "code",
   "execution_count": 5,
   "id": "31065a01",
   "metadata": {},
   "outputs": [
    {
     "name": "stdout",
     "output_type": "stream",
     "text": [
      "Sum: 8\n",
      "Average: 4.0\n"
     ]
    }
   ],
   "source": [
    "# Practical Program\n",
    "a = input(\"Enter first number: \")\n",
    "b = input(\"Enter second number: \")\n",
    "\n",
    "a = int(a)\n",
    "b = int(b)\n",
    "\n",
    "print(\"Sum:\", a + b)\n",
    "print(\"Average:\", (a + b) / 2)\n"
   ]
  },
  {
   "cell_type": "code",
   "execution_count": null,
   "id": "f9ef1068",
   "metadata": {},
   "outputs": [],
   "source": []
  }
 ],
 "metadata": {
  "kernelspec": {
   "display_name": "AI",
   "language": "python",
   "name": "python3"
  },
  "language_info": {
   "codemirror_mode": {
    "name": "ipython",
    "version": 3
   },
   "file_extension": ".py",
   "mimetype": "text/x-python",
   "name": "python",
   "nbconvert_exporter": "python",
   "pygments_lexer": "ipython3",
   "version": "3.12.11"
  }
 },
 "nbformat": 4,
 "nbformat_minor": 5
}
