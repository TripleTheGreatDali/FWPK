{
 "cells": [
  {
   "cell_type": "markdown",
   "id": "397e7ae3",
   "metadata": {},
   "source": [
    "# Input and Outpur"
   ]
  },
  {
   "cell_type": "code",
   "execution_count": null,
   "id": "7562c6d1",
   "metadata": {},
   "outputs": [
    {
     "name": "stdout",
     "output_type": "stream",
     "text": [
      "Hello\n",
      "10\n",
      "A B C\n",
      "HelloWorld\n"
     ]
    }
   ],
   "source": [
    "# Print Output\n",
    "\n",
    "print(\"Hello\")  # Print Hello\n",
    "print(\"10\")     # Print 10\n",
    "print(\"A\", \"B\", \"C\")\n",
    "print(\"Hello\", end=\"\")\n",
    "print(\"World\")"
   ]
  },
  {
   "cell_type": "code",
   "execution_count": 3,
   "id": "8aa5b6be",
   "metadata": {},
   "outputs": [
    {
     "name": "stdout",
     "output_type": "stream",
     "text": [
      "Your name is:  Ahmed\n",
      "Your age is:  10\n"
     ]
    }
   ],
   "source": [
    "# Take Input\n",
    "\n",
    "name = input(\"Enter your name: \")\n",
    "print(\"Your name is: \", name)\n",
    "\n",
    "age = int(input(\"Enter your age: \"))\n",
    "print(\"Your age is: \", age)"
   ]
  },
  {
   "cell_type": "code",
   "execution_count": 4,
   "id": "38794641",
   "metadata": {},
   "outputs": [
    {
     "name": "stdout",
     "output_type": "stream",
     "text": [
      "You entered strings:  1\n",
      "As interger:  1\n",
      "As float:  2.0\n"
     ]
    }
   ],
   "source": [
    "# Type Conversion\n",
    "\n",
    "x = input(\"Enter a number: \")\n",
    "print(\"You entered strings: \", x)\n",
    "\n",
    "x = int(x)\n",
    "print(\"As interger: \", x)\n",
    "\n",
    "y = float(input(\"Enter decimal number: \"))\n",
    "print(\"As float: \", y)"
   ]
  },
  {
   "cell_type": "code",
   "execution_count": 5,
   "id": "55f5fcf0",
   "metadata": {},
   "outputs": [
    {
     "name": "stdout",
     "output_type": "stream",
     "text": [
      "Name: Ali Age: 25\n",
      "My name is Ali, age is 25\n",
      "Pi rounded = 3.14\n"
     ]
    }
   ],
   "source": [
    "# Formatted Output\n",
    "\n",
    "name = \"Ali\"\n",
    "age = 25\n",
    "print(\"Name:\", name, \"Age:\", age)  # Simple\n",
    "print(f\"My name is {name}, age is {age}\") # f-string\n",
    "pi = 3.1416\n",
    "print(f\"Pi rounded = {pi:.2f}\")"
   ]
  },
  {
   "cell_type": "code",
   "execution_count": null,
   "id": "b48f9670",
   "metadata": {},
   "outputs": [
    {
     "name": "stdout",
     "output_type": "stream",
     "text": [
      "Hello\n",
      "World\n",
      "\n",
      "Line: <built-in method strip of str object at 0x000001A804548060>\n",
      "Line: <built-in method strip of str object at 0x000001A805F44930>\n"
     ]
    }
   ],
   "source": [
    "# File Input and Output\n",
    "\n",
    "# Write to file\n",
    "\n",
    "with open (\"data.txt\", \"w\") as f:\n",
    "    f.write(\"Hello\\n\")\n",
    "    f.write(\"World\\n\")\n",
    "\n",
    "# Read whole file\n",
    "\n",
    "with open(\"data.txt\", \"r\") as f:\n",
    "    content = f.read()\n",
    "\n",
    "print(content)\n",
    "\n",
    "# Read line by line\n",
    "\n",
    "with open(\"data.txt\", \"r\") as f:\n",
    "    for line in f:\n",
    "        print(\"Line:\", line.strip)\n"
   ]
  },
  {
   "cell_type": "code",
   "execution_count": 11,
   "id": "d4242083",
   "metadata": {},
   "outputs": [
    {
     "name": "stdout",
     "output_type": "stream",
     "text": [
      "Enter numbers, press Enter to stop\n",
      "Invalid number. Try again.\n",
      "Invalid number. Try again.\n",
      "Invalid number. Try again.\n",
      "Invalid number. Try again.\n",
      "Invalid number. Try again.\n",
      "Invalid number. Try again.\n",
      "Invalid number. Try again.\n",
      "Invalid number. Try again.\n",
      "Invalid number. Try again.\n",
      "Invalid number. Try again.\n",
      "Invalid number. Try again.\n",
      "Invalid number. Try again.\n",
      "Invalid number. Try again.\n",
      "Invalid number. Try again.\n",
      "Invalid number. Try again.\n",
      "Average is 1838012.08\n",
      "Saved to result.txt\n"
     ]
    }
   ],
   "source": [
    "nums = []\n",
    "print(\"Enter numbers, press Enter to stop\")\n",
    "\n",
    "while True:\n",
    "    s = input(\"Number: \").strip()\n",
    "    if s == \"\":\n",
    "        break\n",
    "    try:\n",
    "        n = float(s)\n",
    "    except ValueError:\n",
    "        print(\"Invalid number. Try again.\")\n",
    "        continue\n",
    "    nums.append(n)\n",
    "\n",
    "if not nums:\n",
    "    print(\"No numbers entered. Nothing saved.\")\n",
    "else:\n",
    "    avg = sum(nums) / len(nums)\n",
    "    print(f\"Average is {avg:.2f}\")\n",
    "    with open(\"result.txt\", \"w\", encoding=\"utf-8\") as f:\n",
    "        f.write(\"Numbers: \" + \", \".join(str(x) for x in nums) + \"\\n\")\n",
    "        f.write(f\"Average: {avg:.2f}\\n\")\n",
    "    print(\"Saved to result.txt\")\n"
   ]
  },
  {
   "cell_type": "code",
   "execution_count": null,
   "id": "0b3654f8",
   "metadata": {},
   "outputs": [],
   "source": []
  },
  {
   "cell_type": "code",
   "execution_count": null,
   "id": "6c488b7f",
   "metadata": {},
   "outputs": [],
   "source": []
  }
 ],
 "metadata": {
  "kernelspec": {
   "display_name": "AI",
   "language": "python",
   "name": "python3"
  },
  "language_info": {
   "codemirror_mode": {
    "name": "ipython",
    "version": 3
   },
   "file_extension": ".py",
   "mimetype": "text/x-python",
   "name": "python",
   "nbconvert_exporter": "python",
   "pygments_lexer": "ipython3",
   "version": "3.12.11"
  }
 },
 "nbformat": 4,
 "nbformat_minor": 5
}
