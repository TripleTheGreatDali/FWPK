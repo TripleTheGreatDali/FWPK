{
 "cells": [
  {
   "cell_type": "markdown",
   "id": "6db63914",
   "metadata": {},
   "source": [
    "# Data Types"
   ]
  },
  {
   "cell_type": "code",
   "execution_count": 1,
   "id": "0c17ca0f",
   "metadata": {},
   "outputs": [],
   "source": [
    "# Python has several built-in data types that allow you to work with numbers, text, collections, and more."
   ]
  },
  {
   "cell_type": "code",
   "execution_count": 5,
   "id": "f36879f8",
   "metadata": {},
   "outputs": [
    {
     "name": "stdout",
     "output_type": "stream",
     "text": [
      "<class 'int'>\n"
     ]
    }
   ],
   "source": [
    "# 1. Numeric Types\n",
    "# Integers (int)\n",
    "\n",
    "x = 10\n",
    "y = -5\n",
    "\n",
    "print(type(x))\n"
   ]
  },
  {
   "cell_type": "code",
   "execution_count": 7,
   "id": "de84e061",
   "metadata": {},
   "outputs": [
    {
     "name": "stdout",
     "output_type": "stream",
     "text": [
      "<class 'float'>\n",
      "<class 'float'>\n"
     ]
    }
   ],
   "source": [
    "pi = 3.14\n",
    "temp = -7/5\n",
    "\n",
    "print(type(pi))\n",
    "print(type(temp))"
   ]
  },
  {
   "cell_type": "code",
   "execution_count": 9,
   "id": "d561a3c1",
   "metadata": {},
   "outputs": [
    {
     "name": "stdout",
     "output_type": "stream",
     "text": [
      "2.0\n",
      "3.0\n"
     ]
    }
   ],
   "source": [
    "# Complex Numbers (complex)\n",
    "# Numbers with real and imaginary parts.\n",
    "\n",
    "z =  2+3j\n",
    "print(z.real) # 2.0\n",
    "print(z.imag) # 3.0"
   ]
  },
  {
   "cell_type": "code",
   "execution_count": 10,
   "id": "3a9db4e8",
   "metadata": {},
   "outputs": [
    {
     "name": "stdout",
     "output_type": "stream",
     "text": [
      "<class 'str'>\n"
     ]
    }
   ],
   "source": [
    "# Text Type\n",
    "# String (str)\n",
    "# Sequence of Characters.\n",
    "\n",
    "name = \"Dali\"\n",
    "message = 'Hello, Dali'\n",
    "print(type(name))"
   ]
  },
  {
   "cell_type": "code",
   "execution_count": 11,
   "id": "e2391825",
   "metadata": {},
   "outputs": [
    {
     "name": "stdout",
     "output_type": "stream",
     "text": [
      "DALI\n",
      "dali\n",
      "D\n",
      "4\n"
     ]
    }
   ],
   "source": [
    "# String operations:\n",
    "print(name.upper())\n",
    "print(name.lower())\n",
    "print(name[0])\n",
    "print(len(name))"
   ]
  },
  {
   "cell_type": "code",
   "execution_count": 13,
   "id": "8fb76919",
   "metadata": {},
   "outputs": [
    {
     "name": "stdout",
     "output_type": "stream",
     "text": [
      "<class 'bool'>\n"
     ]
    }
   ],
   "source": [
    "# 3. Boolean Type (bool)\n",
    "# Represents True or False.\n",
    "\n",
    "is_active = True\n",
    "is_logged_in = False\n",
    "print(type(is_active))"
   ]
  },
  {
   "cell_type": "code",
   "execution_count": 16,
   "id": "fbe312f7",
   "metadata": {},
   "outputs": [
    {
     "name": "stdout",
     "output_type": "stream",
     "text": [
      "['apple', 'banana', 'cherry', 'mango']\n"
     ]
    }
   ],
   "source": [
    "# 4. Sequence Types\n",
    "# List; Ordered, mutable collection.\n",
    "\n",
    "fruits = [\"apple\", \"banana\", \"cherry\"]\n",
    "fruits.append(\"mango\")\n",
    "print(fruits)"
   ]
  },
  {
   "cell_type": "code",
   "execution_count": 17,
   "id": "bed38939",
   "metadata": {},
   "outputs": [
    {
     "name": "stdout",
     "output_type": "stream",
     "text": [
      "10\n"
     ]
    }
   ],
   "source": [
    "# Tuple\n",
    "# Ordered, immutable collection.\n",
    "\n",
    "coordinates = (10, 20)\n",
    "print(coordinates[0])"
   ]
  },
  {
   "cell_type": "code",
   "execution_count": 18,
   "id": "31dd1ffd",
   "metadata": {},
   "outputs": [
    {
     "name": "stdout",
     "output_type": "stream",
     "text": [
      "[0, 1, 2, 3, 4]\n"
     ]
    }
   ],
   "source": [
    "# Range\n",
    "# Represents a sequence of numbers.\n",
    "\n",
    "nums = range(5)\n",
    "print(list(nums))"
   ]
  },
  {
   "cell_type": "code",
   "execution_count": 19,
   "id": "63876536",
   "metadata": {},
   "outputs": [
    {
     "name": "stdout",
     "output_type": "stream",
     "text": [
      "Dali\n",
      "{'name': 'Dali', 'age': 21}\n"
     ]
    }
   ],
   "source": [
    "# 5. Mapping Type\n",
    "# Dictionary (dict); Key-value pairs.\n",
    "\n",
    "student = {\"name\": \"Dali\", \"age\":20}\n",
    "print(student[\"name\"])\n",
    "student[\"age\"] = 21\n",
    "print(student)"
   ]
  },
  {
   "cell_type": "code",
   "execution_count": 20,
   "id": "e1b38433",
   "metadata": {},
   "outputs": [
    {
     "name": "stdout",
     "output_type": "stream",
     "text": [
      "{1, 2, 3, 4}\n"
     ]
    }
   ],
   "source": [
    "# Set Types\n",
    "# Set ; Unordered collection of unique itams.\n",
    "\n",
    "numbers = {1, 2, 3, 4}\n",
    "print(numbers)"
   ]
  },
  {
   "cell_type": "code",
   "execution_count": 21,
   "id": "85208b3b",
   "metadata": {},
   "outputs": [
    {
     "name": "stdout",
     "output_type": "stream",
     "text": [
      "frozenset({1, 2, 3})\n"
     ]
    }
   ],
   "source": [
    "# Frozen Set\n",
    "# Immutable version of a set.\n",
    "\n",
    "fset = frozenset([1, 2, 3])\n",
    "print(fset)"
   ]
  },
  {
   "cell_type": "code",
   "execution_count": 22,
   "id": "97b5fc3f",
   "metadata": {},
   "outputs": [
    {
     "name": "stdout",
     "output_type": "stream",
     "text": [
      "<class 'NoneType'>\n"
     ]
    }
   ],
   "source": [
    "# 7. None Type\n",
    "# Represents the absence of a value.\n",
    "value = None\n",
    "print(type(value))  # <class 'NoneType'>\n"
   ]
  },
  {
   "cell_type": "code",
   "execution_count": 23,
   "id": "24efece5",
   "metadata": {},
   "outputs": [
    {
     "name": "stdout",
     "output_type": "stream",
     "text": [
      "<class 'int'>\n",
      "3.5\n"
     ]
    }
   ],
   "source": [
    "# 8. Type Conversion\n",
    "\n",
    "# You can convert between types..\n",
    "\n",
    "\n",
    "x = \"100\"\n",
    "y = int(x)   # convert string to int\n",
    "print(type(y))  # <class 'int'>\n",
    "\n",
    "z = float(\"3.5\")  # convert string to float\n",
    "print(z)\n"
   ]
  },
  {
   "cell_type": "code",
   "execution_count": 24,
   "id": "92faa876",
   "metadata": {},
   "outputs": [
    {
     "name": "stdout",
     "output_type": "stream",
     "text": [
      "<class 'list'>\n",
      "True\n"
     ]
    }
   ],
   "source": [
    "# 9. Checking Data Types\n",
    "\n",
    "# Use type() and isinstance().\n",
    "\n",
    "x = [1, 2, 3]\n",
    "print(type(x))                # <class 'list'>\n",
    "print(isinstance(x, list))    # True\n"
   ]
  },
  {
   "cell_type": "code",
   "execution_count": null,
   "id": "138a4a79",
   "metadata": {},
   "outputs": [],
   "source": []
  }
 ],
 "metadata": {
  "kernelspec": {
   "display_name": "AI",
   "language": "python",
   "name": "python3"
  },
  "language_info": {
   "codemirror_mode": {
    "name": "ipython",
    "version": 3
   },
   "file_extension": ".py",
   "mimetype": "text/x-python",
   "name": "python",
   "nbconvert_exporter": "python",
   "pygments_lexer": "ipython3",
   "version": "3.12.11"
  }
 },
 "nbformat": 4,
 "nbformat_minor": 5
}
