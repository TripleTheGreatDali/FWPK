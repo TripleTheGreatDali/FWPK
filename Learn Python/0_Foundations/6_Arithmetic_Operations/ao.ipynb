{
 "cells": [
  {
   "cell_type": "markdown",
   "id": "fd4306fb",
   "metadata": {},
   "source": [
    "## Python Arithmetic Operations"
   ]
  },
  {
   "cell_type": "code",
   "execution_count": 2,
   "id": "a22c8be3",
   "metadata": {},
   "outputs": [
    {
     "name": "stdout",
     "output_type": "stream",
     "text": [
      "Addition:  13\n",
      "Substraction:  7\n",
      "Multiplication:  3.3333333333333335\n",
      "Floor Division: 3\n",
      "Modulus:  1\n",
      "Power:  1000\n"
     ]
    }
   ],
   "source": [
    "# Basic Operations\n",
    "\n",
    "a = 10\n",
    "b = 3\n",
    "\n",
    "print(\"Addition: \", a+b)\n",
    "print(\"Substraction: \", a-b)\n",
    "print(\"Multiplication: \", a/b)\n",
    "print(\"Floor Division:\", a//b) # Quotient only, no reminder\n",
    "print(\"Modulus: \", a%b) # 1(reminder)\n",
    "print(\"Power: \", a**b)  # 100(10^3)"
   ]
  },
  {
   "cell_type": "code",
   "execution_count": 3,
   "id": "aad0ce32",
   "metadata": {},
   "outputs": [
    {
     "name": "stdout",
     "output_type": "stream",
     "text": [
      "14 20\n"
     ]
    }
   ],
   "source": [
    "# Precedence of Operators\n",
    "x = 2 + 3 * 4    # 14\n",
    "y = (2 + 3) * 4  # 20\n",
    "print(x, y)\n"
   ]
  },
  {
   "cell_type": "code",
   "execution_count": 6,
   "id": "5a3f6696",
   "metadata": {},
   "outputs": [
    {
     "name": "stdout",
     "output_type": "stream",
     "text": [
      "10.5\n"
     ]
    }
   ],
   "source": [
    "# Using Input with Arithmetic\n",
    "\n",
    "a = int(input(\"Enter any int number\"))\n",
    "b = float(input(\"Enter any float number: \"))\n",
    "\n",
    "z= a + b\n",
    "\n",
    "print(z)\n"
   ]
  },
  {
   "cell_type": "code",
   "execution_count": 7,
   "id": "79ceacc3",
   "metadata": {},
   "outputs": [
    {
     "name": "stdout",
     "output_type": "stream",
     "text": [
      "Sum: 61\n",
      "Difference: 51\n",
      "Product: 280\n",
      "Quotient: 11.2\n"
     ]
    }
   ],
   "source": [
    "x = int(input(\"Enter first number: \"))\n",
    "y = int(input(\"Enter second number: \"))\n",
    "\n",
    "print(\"Sum:\", x + y)\n",
    "print(\"Difference:\", x - y)\n",
    "print(\"Product:\", x * y)\n",
    "print(\"Quotient:\", x / y)\n"
   ]
  },
  {
   "cell_type": "markdown",
   "id": "32ad2433",
   "metadata": {},
   "source": []
  },
  {
   "cell_type": "code",
   "execution_count": 8,
   "id": "bde4c6a0",
   "metadata": {},
   "outputs": [
    {
     "name": "stdout",
     "output_type": "stream",
     "text": [
      "3.5\n",
      "3\n",
      "-4\n"
     ]
    }
   ],
   "source": [
    "# Division vs Floor Division\n",
    "print(7 / 2)   # 3.5\n",
    "print(7 // 2)  # 3\n",
    "print(-7 // 2) # -4 (floor rounds down)\n"
   ]
  },
  {
   "cell_type": "code",
   "execution_count": 9,
   "id": "b75c2137",
   "metadata": {},
   "outputs": [
    {
     "name": "stdout",
     "output_type": "stream",
     "text": [
      "Area: 270.0\n",
      "Perimeter: 102.0\n"
     ]
    }
   ],
   "source": [
    "# Practical Mini Program\n",
    "length = float(input(\"Enter length: \"))\n",
    "width = float(input(\"Enter width: \"))\n",
    "\n",
    "area = length * width\n",
    "perimeter = 2 * (length + width)\n",
    "\n",
    "print(\"Area:\", area)\n",
    "print(\"Perimeter:\", perimeter)\n",
    "\n"
   ]
  },
  {
   "cell_type": "code",
   "execution_count": null,
   "id": "45f02df9",
   "metadata": {},
   "outputs": [],
   "source": []
  }
 ],
 "metadata": {
  "kernelspec": {
   "display_name": "AI",
   "language": "python",
   "name": "python3"
  },
  "language_info": {
   "codemirror_mode": {
    "name": "ipython",
    "version": 3
   },
   "file_extension": ".py",
   "mimetype": "text/x-python",
   "name": "python",
   "nbconvert_exporter": "python",
   "pygments_lexer": "ipython3",
   "version": "3.12.11"
  }
 },
 "nbformat": 4,
 "nbformat_minor": 5
}
