{
 "cells": [
  {
   "cell_type": "markdown",
   "id": "b6e25d94",
   "metadata": {},
   "source": [
    "## Python Functions"
   ]
  },
  {
   "cell_type": "code",
   "execution_count": 2,
   "id": "83454aba",
   "metadata": {},
   "outputs": [
    {
     "name": "stdout",
     "output_type": "stream",
     "text": [
      "Hello\n"
     ]
    }
   ],
   "source": [
    "# Simple Functions\n",
    "def simple():\n",
    "    print(\"Hello\")\n",
    "\n",
    "simple()"
   ]
  },
  {
   "cell_type": "code",
   "execution_count": 4,
   "id": "61b889e8",
   "metadata": {},
   "outputs": [
    {
     "name": "stdout",
     "output_type": "stream",
     "text": [
      "Hello Alice\n"
     ]
    }
   ],
   "source": [
    "# Step 2. Function with parameters\n",
    "\n",
    "def simple(name):\n",
    "    print(\"Hello\", name)\n",
    "simple(\"Alice\")"
   ]
  },
  {
   "cell_type": "code",
   "execution_count": 7,
   "id": "69d93bd0",
   "metadata": {},
   "outputs": [
    {
     "name": "stdout",
     "output_type": "stream",
     "text": [
      "Hello, Dali\n"
     ]
    }
   ],
   "source": [
    "def simple():\n",
    "    name = input(\"Enter a name: \")\n",
    "    print(\"Hello,\", name)\n",
    "\n",
    "simple()\n"
   ]
  },
  {
   "cell_type": "code",
   "execution_count": 8,
   "id": "f21d67cf",
   "metadata": {},
   "outputs": [
    {
     "name": "stdout",
     "output_type": "stream",
     "text": [
      "Hello Dali\n",
      "Hello Dali\n"
     ]
    }
   ],
   "source": [
    "def simple(name=None):\n",
    "    if name is None:\n",
    "        name = input(\"Enter a name: \")\n",
    "    print(\"Hello\", name)\n",
    "\n",
    "# Call with a name\n",
    "\n",
    "simple(\"Dali\")\n",
    "simple()"
   ]
  },
  {
   "cell_type": "code",
   "execution_count": 9,
   "id": "02cce250",
   "metadata": {},
   "outputs": [
    {
     "name": "stdout",
     "output_type": "stream",
     "text": [
      "8\n"
     ]
    }
   ],
   "source": [
    "# Step 3. Function with return value\n",
    "def add(a, b):\n",
    "    return a + b\n",
    "result = add(5, 3)\n",
    "print(result)   # 8\n"
   ]
  },
  {
   "cell_type": "code",
   "execution_count": 10,
   "id": "f4e7ec01",
   "metadata": {},
   "outputs": [
    {
     "name": "stdout",
     "output_type": "stream",
     "text": [
      "Hello Guest\n",
      "Hello Bob\n"
     ]
    }
   ],
   "source": [
    "# Step 4. Default parameter values \n",
    "def greet(name=\"Guest\"):\n",
    "    print(\"Hello\", name)\n",
    "greet()         # Hello Guest\n",
    "greet(\"Bob\")    # Hello Bob\n"
   ]
  },
  {
   "cell_type": "code",
   "execution_count": 11,
   "id": "324354ba",
   "metadata": {},
   "outputs": [
    {
     "name": "stdout",
     "output_type": "stream",
     "text": [
      "Alice is 25 years old\n"
     ]
    }
   ],
   "source": [
    "# Step 5. Keyword arguments\n",
    "def person_info(name, age):\n",
    "    print(name, \"is\", age, \"years old\")\n",
    "person_info(age=25, name=\"Alice\")\n"
   ]
  },
  {
   "cell_type": "code",
   "execution_count": 12,
   "id": "2462600e",
   "metadata": {},
   "outputs": [],
   "source": [
    "# Step 6. Arbitrary number of arguments\n",
    "\n",
    "# Use *args for multiple positional arguments\n",
    "\n",
    "# Use **kwargs for multiple keyword arguments"
   ]
  },
  {
   "cell_type": "code",
   "execution_count": 15,
   "id": "00129144",
   "metadata": {},
   "outputs": [
    {
     "name": "stdout",
     "output_type": "stream",
     "text": [
      "10\n",
      "name Alice\n",
      "age 25\n"
     ]
    }
   ],
   "source": [
    "def add_all(*args):\n",
    "    print(sum(args))\n",
    "add_all(1, 2, 3, 4)\n",
    "\n",
    "def print_info(**kwargs):\n",
    "    for key, value in kwargs.items():\n",
    "        print(key, value)\n",
    "print_info(name=\"Alice\", age=25)"
   ]
  },
  {
   "cell_type": "code",
   "execution_count": 16,
   "id": "bafdfef5",
   "metadata": {},
   "outputs": [
    {
     "name": "stdout",
     "output_type": "stream",
     "text": [
      "25\n"
     ]
    }
   ],
   "source": [
    "# Step 7. Lambda function (anonymous function)\n",
    "square = lambda x: x*x\n",
    "print(square(5))   # 25\n"
   ]
  },
  {
   "cell_type": "code",
   "execution_count": 17,
   "id": "ffac3094",
   "metadata": {},
   "outputs": [
    {
     "name": "stdout",
     "output_type": "stream",
     "text": [
      "6\n"
     ]
    }
   ],
   "source": [
    "# Step 8. Function inside function (nested)\n",
    "def outer(x):\n",
    "    def inner(y):\n",
    "        return y + 1\n",
    "    return inner(x)\n",
    "print(outer(5))   # 6\n"
   ]
  },
  {
   "cell_type": "markdown",
   "id": "36b12e22",
   "metadata": {},
   "source": [
    "<h1> Step 9. Why use functions? </h5>\n",
    "\n",
    "# Avoid repetition\n",
    "\n",
    "# Organize code\n",
    "\n",
    "# Make code reusable\n",
    "\n",
    "# Easy to test small parts"
   ]
  },
  {
   "cell_type": "markdown",
   "id": "186d60b7",
   "metadata": {},
   "source": []
  }
 ],
 "metadata": {
  "kernelspec": {
   "display_name": "AI",
   "language": "python",
   "name": "python3"
  },
  "language_info": {
   "codemirror_mode": {
    "name": "ipython",
    "version": 3
   },
   "file_extension": ".py",
   "mimetype": "text/x-python",
   "name": "python",
   "nbconvert_exporter": "python",
   "pygments_lexer": "ipython3",
   "version": "3.12.11"
  }
 },
 "nbformat": 4,
 "nbformat_minor": 5
}
