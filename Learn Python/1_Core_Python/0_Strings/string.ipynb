{
 "cells": [
  {
   "cell_type": "markdown",
   "id": "03ccda54",
   "metadata": {},
   "source": [
    "# String\n",
    "A string is a sequence of characters.\n",
    "In Python, you write strings inside quotes \" \" or ' '."
   ]
  },
  {
   "cell_type": "code",
   "execution_count": 1,
   "id": "8e2a03c0",
   "metadata": {},
   "outputs": [
    {
     "name": "stdout",
     "output_type": "stream",
     "text": [
      "Hello World\n"
     ]
    }
   ],
   "source": [
    "s1 = \"Hello\"\n",
    "s2 = \"World\"\n",
    "\n",
    "print(s1, s2)"
   ]
  },
  {
   "cell_type": "code",
   "execution_count": 3,
   "id": "24f23fcd",
   "metadata": {},
   "outputs": [
    {
     "name": "stdout",
     "output_type": "stream",
     "text": [
      "This is a multi-line string\n"
     ]
    }
   ],
   "source": [
    "# Multi Line Settings\n",
    "\n",
    "msg = \"\"\"This is a multi-line string\"\"\"\n",
    "print(msg)"
   ]
  },
  {
   "cell_type": "code",
   "execution_count": 4,
   "id": "adbe6bb5",
   "metadata": {},
   "outputs": [
    {
     "name": "stdout",
     "output_type": "stream",
     "text": [
      "n\n",
      "P\n",
      "y\n"
     ]
    }
   ],
   "source": [
    "# Access Characters\n",
    "\n",
    "text = \"Python\"\n",
    "\n",
    "print(text[-1])\n",
    "print(text[0])\n",
    "print(text[1])"
   ]
  },
  {
   "cell_type": "code",
   "execution_count": 7,
   "id": "95631ab7",
   "metadata": {},
   "outputs": [
    {
     "name": "stdout",
     "output_type": "stream",
     "text": [
      "Progra\n",
      "Progra\n",
      "gramming\n",
      "ing\n"
     ]
    }
   ],
   "source": [
    "# String Slicing\n",
    "\n",
    "word = \"Programming\"\n",
    "print(word[0:6])   # Progra (from index 0 to 5)\n",
    "print(word[:6])    # same as above\n",
    "print(word[3:])    # gramming\n",
    "print(word[-3:])   # ing\n"
   ]
  },
  {
   "cell_type": "code",
   "execution_count": 8,
   "id": "25e07dae",
   "metadata": {},
   "outputs": [
    {
     "name": "stdout",
     "output_type": "stream",
     "text": [
      "Hello World\n",
      "HelloHelloHello\n",
      "True\n",
      "True\n"
     ]
    }
   ],
   "source": [
    "# String Operations\n",
    "a = \"Hello\"\n",
    "b = \"World\"\n",
    "\n",
    "print(a + \" \" + b)   # concatenation\n",
    "print(a * 3)         # repeat\n",
    "print(\"ell\" in a)    # True\n",
    "print(\"xyz\" not in b) # True\n"
   ]
  },
  {
   "cell_type": "code",
   "execution_count": 9,
   "id": "0d769c81",
   "metadata": {},
   "outputs": [
    {
     "name": "stdout",
     "output_type": "stream",
     "text": [
      "  PYTHON PROGRAMMING  \n",
      "  python programming  \n",
      "python programming\n",
      "  java programming  \n",
      "['python', 'programming']\n",
      "  Python Programming  \n",
      "2\n",
      "9\n"
     ]
    }
   ],
   "source": [
    "# String Methods (Common Ones)\n",
    "text = \"  python programming  \"\n",
    "\n",
    "print(text.upper())      # PYTHON PROGRAMMING\n",
    "print(text.lower())      # python programming\n",
    "print(text.strip())      # remove spaces\n",
    "print(text.replace(\"python\", \"java\"))  # java programming\n",
    "print(text.split())      # ['python', 'programming']\n",
    "print(text.title())      # Python Programming\n",
    "print(text.count(\"m\"))   # 2\n",
    "print(text.find(\"pro\"))  # 8\n"
   ]
  },
  {
   "cell_type": "code",
   "execution_count": 11,
   "id": "6e6a1707",
   "metadata": {},
   "outputs": [
    {
     "name": "stdout",
     "output_type": "stream",
     "text": [
      "H\n",
      "e\n",
      "l\n",
      "l\n",
      "o\n"
     ]
    }
   ],
   "source": [
    "# Iterating Over Strings\n",
    "for ch in \"Hello\":\n",
    "    print(ch)"
   ]
  },
  {
   "cell_type": "code",
   "execution_count": 12,
   "id": "43c76d21",
   "metadata": {},
   "outputs": [
    {
     "name": "stdout",
     "output_type": "stream",
     "text": [
      "My name is Ali and I am 22 years old\n"
     ]
    }
   ],
   "source": [
    "# Formatted Strings (f-strings)\n",
    "name = \"Ali\"\n",
    "age = 22\n",
    "print(f\"My name is {name} and I am {age} years old\")\n"
   ]
  },
  {
   "cell_type": "code",
   "execution_count": 13,
   "id": "8b54d20e",
   "metadata": {},
   "outputs": [
    {
     "name": "stdout",
     "output_type": "stream",
     "text": [
      "Hello\n",
      "World\n",
      "Hello\tWorld\n",
      "He said \"Hi\"\n"
     ]
    }
   ],
   "source": [
    "# Escape Characters\n",
    "print(\"Hello\\nWorld\")   # newline\n",
    "print(\"Hello\\tWorld\")   # tab\n",
    "print(\"He said \\\"Hi\\\"\") # quotes inside\n"
   ]
  },
  {
   "cell_type": "code",
   "execution_count": 15,
   "id": "8cdf9b5b",
   "metadata": {},
   "outputs": [
    {
     "name": "stdout",
     "output_type": "stream",
     "text": [
      "Vowel count: 4\n"
     ]
    }
   ],
   "source": [
    "# Practice Mini Program\n",
    "text = input(\"Enter text: \").lower()\n",
    "vowels = \"aeiou\"\n",
    "count = 0\n",
    "\n",
    "for ch in text:\n",
    "    if ch in vowels:\n",
    "        count += 1\n",
    "\n",
    "print(\"Vowel count:\", count)\n",
    "\n"
   ]
  },
  {
   "cell_type": "code",
   "execution_count": null,
   "id": "18d6d7fc",
   "metadata": {},
   "outputs": [],
   "source": []
  }
 ],
 "metadata": {
  "kernelspec": {
   "display_name": "AI",
   "language": "python",
   "name": "python3"
  },
  "language_info": {
   "codemirror_mode": {
    "name": "ipython",
    "version": 3
   },
   "file_extension": ".py",
   "mimetype": "text/x-python",
   "name": "python",
   "nbconvert_exporter": "python",
   "pygments_lexer": "ipython3",
   "version": "3.12.11"
  }
 },
 "nbformat": 4,
 "nbformat_minor": 5
}
