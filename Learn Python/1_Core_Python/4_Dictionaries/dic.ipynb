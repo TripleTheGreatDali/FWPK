{
 "cells": [
  {
   "cell_type": "markdown",
   "id": "bf3c2470",
   "metadata": {},
   "source": [
    "# Dictionaries"
   ]
  },
  {
   "cell_type": "code",
   "execution_count": 9,
   "id": "2179bbd9",
   "metadata": {},
   "outputs": [
    {
     "name": "stdout",
     "output_type": "stream",
     "text": [
      "{'name': 'Alice', 'age': '25', 'city': 'Paris'}\n"
     ]
    }
   ],
   "source": [
    "# Create a dictionary\n",
    "\n",
    "person = {\"name\": \"Alice\", \"age\": \"25\", \"city\": \"Paris\"}\n",
    "print(person)"
   ]
  },
  {
   "cell_type": "code",
   "execution_count": 10,
   "id": "d61ea495",
   "metadata": {},
   "outputs": [
    {
     "name": "stdout",
     "output_type": "stream",
     "text": [
      "Alice\n",
      "25\n"
     ]
    }
   ],
   "source": [
    "# Access values by key\n",
    "print(person[\"name\"])   # Alice\n",
    "print(person[\"age\"])    # 25\n"
   ]
  },
  {
   "cell_type": "code",
   "execution_count": 11,
   "id": "afddb617",
   "metadata": {},
   "outputs": [
    {
     "name": "stdout",
     "output_type": "stream",
     "text": [
      "Paris\n",
      "None\n"
     ]
    }
   ],
   "source": [
    "# Use get() to avoid errors\n",
    "\n",
    "print(person.get(\"city\"))\n",
    "print(person.get(\"country\"))"
   ]
  },
  {
   "cell_type": "code",
   "execution_count": 12,
   "id": "b3a928a8",
   "metadata": {},
   "outputs": [
    {
     "name": "stdout",
     "output_type": "stream",
     "text": [
      "{'name': 'Alice', 'age': 26, 'city': 'Paris', 'job': 'Engineer'}\n"
     ]
    }
   ],
   "source": [
    "# Add or update items\n",
    "person[\"job\"] = \"Engineer\"   # add\n",
    "person[\"age\"] = 26           # update\n",
    "print(person)"
   ]
  },
  {
   "cell_type": "code",
   "execution_count": 13,
   "id": "7d860571",
   "metadata": {},
   "outputs": [
    {
     "name": "stdout",
     "output_type": "stream",
     "text": [
      "{'name': 'Alice', 'age': 26, 'job': 'Engineer'}\n",
      "{'name': 'Alice', 'age': 26}\n",
      "{'name': 'Alice'}\n",
      "{}\n"
     ]
    }
   ],
   "source": [
    "# Remove items\n",
    "person.pop(\"city\")      # removes key \"city\"\n",
    "print(person)\n",
    "\n",
    "person.popitem()        # removes last inserted item\n",
    "print(person)\n",
    "\n",
    "del person[\"age\"]       # delete by key\n",
    "print(person)\n",
    "\n",
    "person.clear()          # remove all\n",
    "print(person)\n"
   ]
  },
  {
   "cell_type": "code",
   "execution_count": 14,
   "id": "f6f62a95",
   "metadata": {},
   "outputs": [
    {
     "name": "stdout",
     "output_type": "stream",
     "text": [
      "3\n"
     ]
    }
   ],
   "source": [
    "# Dictionary length\n",
    "person = {\"name\": \"Alice\", \"age\": 25, \"city\": \"Paris\"}\n",
    "print(len(person))   # 3\n"
   ]
  },
  {
   "cell_type": "code",
   "execution_count": 15,
   "id": "dc931af5",
   "metadata": {},
   "outputs": [
    {
     "name": "stdout",
     "output_type": "stream",
     "text": [
      "name Alice\n",
      "age 25\n",
      "city Paris\n",
      "name Alice\n",
      "age 25\n",
      "city Paris\n"
     ]
    }
   ],
   "source": [
    "# Loop through dictionary\n",
    "for key in person:\n",
    "    print(key, person[key])\n",
    "\n",
    "for key, value in person.items():\n",
    "    print(key, value)\n",
    "\n"
   ]
  },
  {
   "cell_type": "code",
   "execution_count": 16,
   "id": "69766ea7",
   "metadata": {},
   "outputs": [
    {
     "name": "stdout",
     "output_type": "stream",
     "text": [
      "dict_keys(['name', 'age', 'city'])\n",
      "dict_values(['Alice', 25, 'Paris'])\n",
      "dict_items([('name', 'Alice'), ('age', 25), ('city', 'Paris')])\n"
     ]
    }
   ],
   "source": [
    "# Keys, values, items\n",
    "print(person.keys())    # dict_keys(['name', 'age', 'city'])\n",
    "print(person.values())  # dict_values(['Alice', 25, 'Paris'])\n",
    "print(person.items())   # dict_items([('name', 'Alice'), ('age', 25), ('city', 'Paris')])\n"
   ]
  },
  {
   "cell_type": "code",
   "execution_count": 17,
   "id": "eab88a4a",
   "metadata": {},
   "outputs": [
    {
     "name": "stdout",
     "output_type": "stream",
     "text": [
      "John\n"
     ]
    }
   ],
   "source": [
    "# Nested dictionaries\n",
    "students = {\n",
    "    \"s1\": {\"name\": \"John\", \"age\": 20},\n",
    "    \"s2\": {\"name\": \"Emma\", \"age\": 22}\n",
    "}\n",
    "print(students[\"s1\"][\"name\"])   # John\n"
   ]
  },
  {
   "cell_type": "code",
   "execution_count": 18,
   "id": "4913b8eb",
   "metadata": {},
   "outputs": [
    {
     "name": "stdout",
     "output_type": "stream",
     "text": [
      "Alice\n",
      "Paris\n",
      "{'name': 'Alice', 'age': 25, 'city': 'Paris'}\n",
      "{'name': 'Alice', 'age': 25, 'city': 'Paris'}\n"
     ]
    }
   ],
   "source": [
    "# Dictionary methods\n",
    "person = {\"name\": \"Alice\", \"age\": 25}\n",
    "print(person.get(\"name\"))       # Alice\n",
    "print(person.setdefault(\"city\", \"Paris\")) # adds city if missing\n",
    "print(person)\n",
    "\n",
    "copy_dict = person.copy()       # shallow copy\n",
    "print(copy_dict)\n"
   ]
  },
  {
   "cell_type": "code",
   "execution_count": null,
   "id": "57e554a9",
   "metadata": {},
   "outputs": [],
   "source": []
  }
 ],
 "metadata": {
  "kernelspec": {
   "display_name": "AI",
   "language": "python",
   "name": "python3"
  },
  "language_info": {
   "codemirror_mode": {
    "name": "ipython",
    "version": 3
   },
   "file_extension": ".py",
   "mimetype": "text/x-python",
   "name": "python",
   "nbconvert_exporter": "python",
   "pygments_lexer": "ipython3",
   "version": "3.12.11"
  }
 },
 "nbformat": 4,
 "nbformat_minor": 5
}
