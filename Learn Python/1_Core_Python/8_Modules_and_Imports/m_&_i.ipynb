{
 "cells": [
  {
   "cell_type": "markdown",
   "id": "ae0cbf13",
   "metadata": {},
   "source": [
    "# Modules and Imports"
   ]
  },
  {
   "cell_type": "code",
   "execution_count": 2,
   "id": "aef3290d",
   "metadata": {},
   "outputs": [],
   "source": [
    "# Step 1. What is a module?\n",
    "# A module is a file containing Python code (functions, variables, classes).\n",
    "# Example: math, random, os are built-in modules."
   ]
  },
  {
   "cell_type": "code",
   "execution_count": 3,
   "id": "d9f16a05",
   "metadata": {},
   "outputs": [
    {
     "name": "stdout",
     "output_type": "stream",
     "text": [
      "4.0\n"
     ]
    }
   ],
   "source": [
    "import math\n",
    "print(math.sqrt(16))"
   ]
  },
  {
   "cell_type": "code",
   "execution_count": 4,
   "id": "b1a3dfeb",
   "metadata": {},
   "outputs": [
    {
     "name": "stdout",
     "output_type": "stream",
     "text": [
      "5.0990195135927845\n",
      "5\n"
     ]
    }
   ],
   "source": [
    "# Step 3. Import specific functions\n",
    "from math import sqrt, ceil\n",
    "print(sqrt(26))\n",
    "print(ceil(4.5))"
   ]
  },
  {
   "cell_type": "code",
   "execution_count": 5,
   "id": "ac55c238",
   "metadata": {},
   "outputs": [
    {
     "name": "stdout",
     "output_type": "stream",
     "text": [
      "3.0\n"
     ]
    }
   ],
   "source": [
    "# Step 4. Import with alias\n",
    "import math as m\n",
    "print(m.sqrt(9))       # 3.0\n"
   ]
  },
  {
   "cell_type": "code",
   "execution_count": 6,
   "id": "72caba8a",
   "metadata": {},
   "outputs": [
    {
     "name": "stdout",
     "output_type": "stream",
     "text": [
      "9\n",
      "2\n"
     ]
    }
   ],
   "source": [
    "# Step 5. Using random module\n",
    "import random\n",
    "print(random.randint(1, 10))   # random integer 1-10\n",
    "print(random.choice([1, 2, 3]))  # random element\n"
   ]
  },
  {
   "cell_type": "code",
   "execution_count": 8,
   "id": "46095349",
   "metadata": {},
   "outputs": [
    {
     "name": "stdout",
     "output_type": "stream",
     "text": [
      "c:\\Users\\Dali\\Documents\\GitHub\\FWPK\\Learn Python\\1_Core_Python\\8_Modules_and_Imports\n",
      "['m_&_i.ipynb']\n"
     ]
    }
   ],
   "source": [
    "# Step 6. Using os module\n",
    "import os\n",
    "print(os.getcwd())   # current working directory\n",
    "print(os.listdir())  # list files in current directory\n"
   ]
  },
  {
   "cell_type": "code",
   "execution_count": 11,
   "id": "38c45a0d",
   "metadata": {},
   "outputs": [
    {
     "name": "stdout",
     "output_type": "stream",
     "text": [
      "Hello Alice\n"
     ]
    }
   ],
   "source": [
    "import mymodule\n",
    "mymodule.greet(\"Alice\")\n"
   ]
  },
  {
   "cell_type": "code",
   "execution_count": 12,
   "id": "1f0f60d6",
   "metadata": {},
   "outputs": [
    {
     "name": "stdout",
     "output_type": "stream",
     "text": [
      "6.0\n",
      "4\n"
     ]
    }
   ],
   "source": [
    "# Step 8. Import all from a module\n",
    "from math import *\n",
    "print(sqrt(36))\n",
    "print(floor(4.7))\n"
   ]
  },
  {
   "cell_type": "code",
   "execution_count": 13,
   "id": "835ecbc8",
   "metadata": {},
   "outputs": [],
   "source": [
    "# Step 9. Why use modules?\n",
    "\n",
    "# Reuse code easily.\n",
    "\n",
    "# Organize large programs.\n",
    "\n",
    "# Access standard and third-party libraries."
   ]
  },
  {
   "cell_type": "code",
   "execution_count": null,
   "id": "976ea991",
   "metadata": {},
   "outputs": [],
   "source": []
  }
 ],
 "metadata": {
  "kernelspec": {
   "display_name": "AI",
   "language": "python",
   "name": "python3"
  },
  "language_info": {
   "codemirror_mode": {
    "name": "ipython",
    "version": 3
   },
   "file_extension": ".py",
   "mimetype": "text/x-python",
   "name": "python",
   "nbconvert_exporter": "python",
   "pygments_lexer": "ipython3",
   "version": "3.12.11"
  }
 },
 "nbformat": 4,
 "nbformat_minor": 5
}
