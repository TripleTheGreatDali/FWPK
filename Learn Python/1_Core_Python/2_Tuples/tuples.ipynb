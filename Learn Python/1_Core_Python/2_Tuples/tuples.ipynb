{
 "cells": [
  {
   "cell_type": "markdown",
   "id": "680c43f2",
   "metadata": {},
   "source": [
    "## Tuples\n",
    "<h3> In Python, a tuple is an ordered and immutable collection of items. This means that once a tuple is created, its elements cannot be changed, added, or removed. Tuples are defined by enclosing comma-separated items within parentheses (). </h3>"
   ]
  },
  {
   "cell_type": "code",
   "execution_count": 1,
   "id": "23267642",
   "metadata": {},
   "outputs": [
    {
     "name": "stdout",
     "output_type": "stream",
     "text": [
      "(1, 2, 3)\n"
     ]
    }
   ],
   "source": [
    "# Create a tuple\n",
    "\n",
    "numbers = (1, 2, 3)\n",
    "print(numbers)"
   ]
  },
  {
   "cell_type": "code",
   "execution_count": 3,
   "id": "885ea89b",
   "metadata": {},
   "outputs": [
    {
     "name": "stdout",
     "output_type": "stream",
     "text": [
      "(1, 'hello', 3.5, True)\n"
     ]
    }
   ],
   "source": [
    "# A tuple can have different data types\n",
    "\n",
    "mixed = (1, \"hello\", 3.5, True)\n",
    "print(mixed)"
   ]
  },
  {
   "cell_type": "markdown",
   "id": "576779ff",
   "metadata": {},
   "source": []
  },
  {
   "cell_type": "code",
   "execution_count": 4,
   "id": "e69c0f60",
   "metadata": {},
   "outputs": [
    {
     "name": "stdout",
     "output_type": "stream",
     "text": [
      "1\n",
      "hello\n"
     ]
    }
   ],
   "source": [
    "\n",
    "print(mixed[0])   # 1\n",
    "print(mixed[1])   # hello\n",
    "\n"
   ]
  },
  {
   "cell_type": "code",
   "execution_count": 5,
   "id": "cc3dcd38",
   "metadata": {},
   "outputs": [
    {
     "ename": "TypeError",
     "evalue": "'tuple' object does not support item assignment",
     "output_type": "error",
     "traceback": [
      "\u001b[1;31m---------------------------------------------------------------------------\u001b[0m",
      "\u001b[1;31mTypeError\u001b[0m                                 Traceback (most recent call last)",
      "Cell \u001b[1;32mIn[5], line 3\u001b[0m\n\u001b[0;32m      1\u001b[0m \u001b[38;5;66;03m# Tuples are immutable\u001b[39;00m\n\u001b[1;32m----> 3\u001b[0m \u001b[43mmixed\u001b[49m\u001b[43m[\u001b[49m\u001b[38;5;241;43m0\u001b[39;49m\u001b[43m]\u001b[49m \u001b[38;5;241m=\u001b[39m \u001b[38;5;241m9\u001b[39m   \u001b[38;5;66;03m# This gives an error\u001b[39;00m\n",
      "\u001b[1;31mTypeError\u001b[0m: 'tuple' object does not support item assignment"
     ]
    }
   ],
   "source": [
    "# Tuples are immutable\n",
    "\n",
    "mixed[0] = 9   # This gives an error\n",
    "\n"
   ]
  },
  {
   "cell_type": "code",
   "execution_count": 6,
   "id": "ef5b50d9",
   "metadata": {},
   "outputs": [
    {
     "name": "stdout",
     "output_type": "stream",
     "text": [
      "<class 'tuple'>\n",
      "<class 'int'>\n"
     ]
    }
   ],
   "source": [
    "# Single-element tuple\n",
    "\n",
    "a = (5,) # with comma, it is a tuple\n",
    "b = (5)  # without comma, it is just an integer\n",
    "\n",
    "print(type(a)) # Tuple\n",
    "print(type(b)) # int"
   ]
  },
  {
   "cell_type": "code",
   "execution_count": 7,
   "id": "17c47acc",
   "metadata": {},
   "outputs": [
    {
     "name": "stdout",
     "output_type": "stream",
     "text": [
      "John\n",
      "25\n",
      "Engineer\n"
     ]
    }
   ],
   "source": [
    "# Tuple unpacking\n",
    "person = (\"John\", 25, \"Engineer\")\n",
    "name, age, job = person\n",
    "print(name)   # John\n",
    "print(age)    # 25\n",
    "print(job)    # Engineer\n"
   ]
  },
  {
   "cell_type": "code",
   "execution_count": 8,
   "id": "885dda12",
   "metadata": {},
   "outputs": [
    {
     "name": "stdout",
     "output_type": "stream",
     "text": [
      "4\n",
      "2\n",
      "2\n"
     ]
    }
   ],
   "source": [
    "# Useful functions\n",
    "nums = (10, 20, 30, 20)\n",
    "print(len(nums))       # 4\n",
    "print(nums.count(20))  # 2\n",
    "print(nums.index(30))  # 2\n"
   ]
  },
  {
   "cell_type": "code",
   "execution_count": 10,
   "id": "2e9a0319",
   "metadata": {},
   "outputs": [
    {
     "name": "stdout",
     "output_type": "stream",
     "text": [
      "(1, 2)\n",
      "2\n"
     ]
    }
   ],
   "source": [
    "# Nested tuples\n",
    "nested = ((1, 2), (3, 4))\n",
    "print(nested[0])      # (1, 2)\n",
    "print(nested[0][1])   # 2\n"
   ]
  },
  {
   "cell_type": "code",
   "execution_count": 12,
   "id": "4883b1f2",
   "metadata": {},
   "outputs": [
    {
     "name": "stdout",
     "output_type": "stream",
     "text": [
      "[1, 2, 3]\n",
      "(1, 2, 3)\n"
     ]
    }
   ],
   "source": [
    "# Convert list to tuple\n",
    "lst = [1, 2, 3]\n",
    "print(lst)\n",
    "tup = tuple(lst)\n",
    "print(tup)   # (1, 2, 3)\n"
   ]
  },
  {
   "cell_type": "code",
   "execution_count": null,
   "id": "53c0ee57",
   "metadata": {},
   "outputs": [],
   "source": []
  }
 ],
 "metadata": {
  "kernelspec": {
   "display_name": "AI",
   "language": "python",
   "name": "python3"
  },
  "language_info": {
   "codemirror_mode": {
    "name": "ipython",
    "version": 3
   },
   "file_extension": ".py",
   "mimetype": "text/x-python",
   "name": "python",
   "nbconvert_exporter": "python",
   "pygments_lexer": "ipython3",
   "version": "3.12.11"
  }
 },
 "nbformat": 4,
 "nbformat_minor": 5
}
