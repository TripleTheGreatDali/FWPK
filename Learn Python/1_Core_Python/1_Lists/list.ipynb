{
 "cells": [
  {
   "cell_type": "markdown",
   "id": "4b30aa09",
   "metadata": {},
   "source": [
    "##  Python List\n",
    "# A list is a built-in data structure used to store an ordered collection of items. "
   ]
  },
  {
   "cell_type": "code",
   "execution_count": 1,
   "id": "0256dace",
   "metadata": {},
   "outputs": [
    {
     "name": "stdout",
     "output_type": "stream",
     "text": [
      "['apple', 'banana', 'cherry']\n"
     ]
    }
   ],
   "source": [
    "stock = [\"apple\", \"banana\", \"cherry\"]\n",
    "print(stock)"
   ]
  },
  {
   "cell_type": "code",
   "execution_count": 3,
   "id": "853d9388",
   "metadata": {},
   "outputs": [
    {
     "name": "stdout",
     "output_type": "stream",
     "text": [
      "apple\n",
      "cherry\n",
      "cherry\n"
     ]
    }
   ],
   "source": [
    "# Access items by index\n",
    "\n",
    "print(stock[0])\n",
    "print(stock[-1])\n",
    "print(stock[2])"
   ]
  },
  {
   "cell_type": "code",
   "execution_count": 4,
   "id": "41aa7a1a",
   "metadata": {},
   "outputs": [
    {
     "name": "stdout",
     "output_type": "stream",
     "text": [
      "['apple', 'mango', 'cherry']\n"
     ]
    }
   ],
   "source": [
    "# Change an item\n",
    "\n",
    "stock[1] = \"mango\"\n",
    "print(stock)"
   ]
  },
  {
   "cell_type": "code",
   "execution_count": null,
   "id": "118dbbc1",
   "metadata": {},
   "outputs": [],
   "source": []
  }
 ],
 "metadata": {
  "kernelspec": {
   "display_name": "AI",
   "language": "python",
   "name": "python3"
  },
  "language_info": {
   "codemirror_mode": {
    "name": "ipython",
    "version": 3
   },
   "file_extension": ".py",
   "mimetype": "text/x-python",
   "name": "python",
   "nbconvert_exporter": "python",
   "pygments_lexer": "ipython3",
   "version": "3.12.11"
  }
 },
 "nbformat": 4,
 "nbformat_minor": 5
}
