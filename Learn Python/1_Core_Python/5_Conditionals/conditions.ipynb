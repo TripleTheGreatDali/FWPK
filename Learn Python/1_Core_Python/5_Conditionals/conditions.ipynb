{
 "cells": [
  {
   "cell_type": "markdown",
   "id": "fc32cbca",
   "metadata": {},
   "source": [
    "# Conditions"
   ]
  },
  {
   "cell_type": "code",
   "execution_count": 1,
   "id": "03025a1f",
   "metadata": {},
   "outputs": [],
   "source": [
    "# Step 1. Simple if"
   ]
  },
  {
   "cell_type": "code",
   "execution_count": 6,
   "id": "a90f0f90",
   "metadata": {},
   "outputs": [
    {
     "name": "stdout",
     "output_type": "stream",
     "text": [
      "x is greater than 5\n"
     ]
    }
   ],
   "source": [
    "x = 6\n",
    "if x > 5:\n",
    "    print(\"x is greater than 5\")\n"
   ]
  },
  {
   "cell_type": "code",
   "execution_count": 7,
   "id": "f1576d7b",
   "metadata": {},
   "outputs": [],
   "source": [
    "# Step 2. if-else"
   ]
  },
  {
   "cell_type": "code",
   "execution_count": 8,
   "id": "6927bc64",
   "metadata": {},
   "outputs": [
    {
     "name": "stdout",
     "output_type": "stream",
     "text": [
      "x is not greater than 5\n"
     ]
    }
   ],
   "source": [
    "x =3\n",
    "if x > 5:\n",
    "    print(\"x is greater than 5\")\n",
    "else:\n",
    "    print(\"x is not greater than 5\")"
   ]
  },
  {
   "cell_type": "code",
   "execution_count": 11,
   "id": "591b99d6",
   "metadata": {},
   "outputs": [
    {
     "name": "stdout",
     "output_type": "stream",
     "text": [
      "Nums is greater than 10\n"
     ]
    }
   ],
   "source": [
    "nums = int(input(\"Enter a number: \"))\n",
    "\n",
    "if nums > 10:\n",
    "    print(\"Nums is greater than 10\")\n",
    "elif nums == 10:\n",
    "    print(\"Nums is 10\")\n",
    "else:\n",
    "    print(\"Nums is something else\")"
   ]
  },
  {
   "cell_type": "code",
   "execution_count": 12,
   "id": "c35621ab",
   "metadata": {},
   "outputs": [],
   "source": [
    "# Nested if"
   ]
  },
  {
   "cell_type": "code",
   "execution_count": 13,
   "id": "a5da80fe",
   "metadata": {},
   "outputs": [
    {
     "name": "stdout",
     "output_type": "stream",
     "text": [
      "X is between 10 and 20\n"
     ]
    }
   ],
   "source": [
    "x = 15\n",
    "if x > 10:\n",
    "    if x<20:\n",
    "        print(\"X is between 10 and 20\")"
   ]
  },
  {
   "cell_type": "code",
   "execution_count": 14,
   "id": "4d48ebd0",
   "metadata": {},
   "outputs": [],
   "source": [
    "# Step 5. Comparison operators\n",
    "\n",
    "# == equal\n",
    "\n",
    "# != not equal\n",
    "\n",
    "# > greater than\n",
    "\n",
    "# < less than\n",
    "\n",
    "# >= greater or equal\n",
    "\n",
    "# <= less or equal"
   ]
  },
  {
   "cell_type": "code",
   "execution_count": 16,
   "id": "9f8262bc",
   "metadata": {},
   "outputs": [
    {
     "name": "stdout",
     "output_type": "stream",
     "text": [
      "True\n",
      "True\n"
     ]
    }
   ],
   "source": [
    "a = 5\n",
    "b = 8\n",
    "print(a != b) # True\n",
    "print(a <= b) # True"
   ]
  },
  {
   "cell_type": "code",
   "execution_count": 17,
   "id": "e5fbcd1d",
   "metadata": {},
   "outputs": [],
   "source": [
    "# Step 6. Logical operators\n",
    "\n",
    "# and both conditions must be True\n",
    "\n",
    "# or at least one condition is True\n",
    "\n",
    "# not reverses the result"
   ]
  },
  {
   "cell_type": "code",
   "execution_count": 18,
   "id": "fe2444bd",
   "metadata": {},
   "outputs": [
    {
     "name": "stdout",
     "output_type": "stream",
     "text": [
      "x is between 5 and 20\n",
      "x is outside 5\n",
      "x is not 10\n"
     ]
    }
   ],
   "source": [
    "x = 12\n",
    "if x > 5 and x < 20:\n",
    "    print(\"x is between 5 and 20\")\n",
    "\n",
    "if x < 5 or x > 10:\n",
    "    print(\"x is outside 5\")\n",
    "\n",
    "if not x == 10:\n",
    "    print(\"x is not 10\")\n"
   ]
  },
  {
   "cell_type": "code",
   "execution_count": 19,
   "id": "567a5fb6",
   "metadata": {},
   "outputs": [
    {
     "name": "stdout",
     "output_type": "stream",
     "text": [
      "adult\n"
     ]
    }
   ],
   "source": [
    "# Step 7. Short if (ternary)\n",
    "age = 18\n",
    "status = \"adult\" if age >= 18 else \"minor\"\n",
    "print(status)   # adult\n"
   ]
  },
  {
   "cell_type": "code",
   "execution_count": 20,
   "id": "999775ed",
   "metadata": {},
   "outputs": [],
   "source": [
    "# tep 8. Pass statement\n",
    "# Sometimes you want an empty if block.\n",
    "\n",
    "x = 5\n",
    "if x > 0:\n",
    "    pass # do nothing"
   ]
  },
  {
   "cell_type": "code",
   "execution_count": null,
   "id": "0419d9b6",
   "metadata": {},
   "outputs": [],
   "source": []
  }
 ],
 "metadata": {
  "kernelspec": {
   "display_name": "AI",
   "language": "python",
   "name": "python3"
  },
  "language_info": {
   "codemirror_mode": {
    "name": "ipython",
    "version": 3
   },
   "file_extension": ".py",
   "mimetype": "text/x-python",
   "name": "python",
   "nbconvert_exporter": "python",
   "pygments_lexer": "ipython3",
   "version": "3.12.11"
  }
 },
 "nbformat": 4,
 "nbformat_minor": 5
}
