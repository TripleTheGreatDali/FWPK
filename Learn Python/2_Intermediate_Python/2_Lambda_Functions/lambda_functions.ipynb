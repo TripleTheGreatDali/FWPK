{
 "cells": [
  {
   "cell_type": "markdown",
   "id": "29d9238a",
   "metadata": {},
   "source": [
    "# Lambda Functions"
   ]
  },
  {
   "cell_type": "code",
   "execution_count": 1,
   "id": "b1cfe550",
   "metadata": {},
   "outputs": [],
   "source": [
    "# What a Lambda Function is\n",
    "\n",
    "# A small, anonymous function.\n",
    "\n",
    "# Defined with lambda keyword.\n",
    "\n",
    "# Can take any number of arguments, but only one expression."
   ]
  },
  {
   "cell_type": "code",
   "execution_count": 3,
   "id": "189d978b",
   "metadata": {},
   "outputs": [],
   "source": [
    "# # lambda arguments: expression\n",
    "# arguments: input values.\n",
    "# expression: returned result.\n"
   ]
  },
  {
   "cell_type": "code",
   "execution_count": 5,
   "id": "e25b8fc1",
   "metadata": {},
   "outputs": [
    {
     "name": "stdout",
     "output_type": "stream",
     "text": [
      "8\n"
     ]
    }
   ],
   "source": [
    "# Simple Addition\n",
    "add = lambda x, y: x+y\n",
    "print(add(3,5))\n"
   ]
  },
  {
   "cell_type": "code",
   "execution_count": 7,
   "id": "b0ef329e",
   "metadata": {},
   "outputs": [
    {
     "name": "stdout",
     "output_type": "stream",
     "text": [
      "16\n"
     ]
    }
   ],
   "source": [
    "# Square a number\n",
    "square = lambda x: x**2\n",
    "print(square(4))"
   ]
  },
  {
   "cell_type": "code",
   "execution_count": 8,
   "id": "94c7c977",
   "metadata": {},
   "outputs": [
    {
     "name": "stdout",
     "output_type": "stream",
     "text": [
      "True\n"
     ]
    }
   ],
   "source": [
    "# Check even number\n",
    "is_even = lambda x: x % 2 == 0\n",
    "print(is_even(6))  # True\n"
   ]
  },
  {
   "cell_type": "code",
   "execution_count": 9,
   "id": "50deeb83",
   "metadata": {},
   "outputs": [],
   "source": [
    "# With map()\n",
    "nums = [1,2,3,4]\n",
    "squares = list(map(lambda x: x**2, nums))\n",
    "# [1,4,9,16]\n"
   ]
  },
  {
   "cell_type": "code",
   "execution_count": 10,
   "id": "c09a8e8d",
   "metadata": {},
   "outputs": [],
   "source": [
    "# With filter()\n",
    "nums = [1,2,3,4,5,6]\n",
    "evens = list(filter(lambda x: x % 2 == 0, nums))\n",
    "# [2,4,6]\n"
   ]
  },
  {
   "cell_type": "code",
   "execution_count": 11,
   "id": "e8051e5d",
   "metadata": {},
   "outputs": [],
   "source": [
    "# With sorted()\n",
    "pairs = [(1,\"b\"), (2,\"a\"), (3,\"c\")]\n",
    "sorted_pairs = sorted(pairs, key=lambda x: x[1])\n",
    "# [(2,\"a\"), (1,\"b\"), (3,\"c\")]\n"
   ]
  },
  {
   "cell_type": "code",
   "execution_count": 12,
   "id": "9ce39275",
   "metadata": {},
   "outputs": [],
   "source": [
    "# With reduce()\n",
    "from functools import reduce\n",
    "nums = [1,2,3,4]\n",
    "product = reduce(lambda x, y: x * y, nums)\n",
    "# 24\n"
   ]
  },
  {
   "cell_type": "code",
   "execution_count": 13,
   "id": "9250676b",
   "metadata": {},
   "outputs": [],
   "source": [
    "# Key Points\n",
    "\n",
    "# Use when you need a quick function for a short task.\n",
    "\n",
    "# Avoid for long or complex logic, use def instead.\n",
    "\n",
    "# Often used with functional tools like map, filter, reduce, and sorted."
   ]
  },
  {
   "cell_type": "code",
   "execution_count": null,
   "id": "5f06474a",
   "metadata": {},
   "outputs": [],
   "source": []
  }
 ],
 "metadata": {
  "kernelspec": {
   "display_name": "AI",
   "language": "python",
   "name": "python3"
  },
  "language_info": {
   "codemirror_mode": {
    "name": "ipython",
    "version": 3
   },
   "file_extension": ".py",
   "mimetype": "text/x-python",
   "name": "python",
   "nbconvert_exporter": "python",
   "pygments_lexer": "ipython3",
   "version": "3.12.11"
  }
 },
 "nbformat": 4,
 "nbformat_minor": 5
}
