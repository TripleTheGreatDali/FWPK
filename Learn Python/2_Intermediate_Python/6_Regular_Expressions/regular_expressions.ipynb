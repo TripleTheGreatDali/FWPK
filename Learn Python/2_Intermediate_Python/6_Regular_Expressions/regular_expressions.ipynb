{
 "cells": [
  {
   "cell_type": "code",
   "execution_count": 1,
   "id": "307f8cdf",
   "metadata": {},
   "outputs": [
    {
     "name": "stdout",
     "output_type": "stream",
     "text": [
      "Match result: My email\n",
      "Search result: 123-456-7890\n",
      "Findall emails: ['test123@example.com']\n",
      "Substitute digits: My email is test***@example.com and my phone number is ***-***-****.\n",
      "Split words: ['My', 'email', 'is', 'test123@example.com', 'and', 'my', 'phone', 'number', 'is', '123-456-7890.']\n",
      "Captured groups: ('John', '25')\n",
      "Name: John\n",
      "Age: 25\n"
     ]
    }
   ],
   "source": [
    "\"\"\"\n",
    "Regular Expressions in Python (Intermediate level)\n",
    "\n",
    "- A Regular Expression (regex) is a pattern used to match strings.\n",
    "- Python provides the 're' module to work with regex.\n",
    "\"\"\"\n",
    "\n",
    "import re\n",
    "\n",
    "def regex_examples():\n",
    "    # Example text for matching\n",
    "    text = \"My email is test123@example.com and my phone number is 123-456-7890.\"\n",
    "\n",
    "    # 1. re.match(): Checks only at the beginning of the string\n",
    "    match_result = re.match(r\"My email\", text)\n",
    "    print(\"Match result:\", match_result.group() if match_result else \"No match\")\n",
    "\n",
    "    # 2. re.search(): Finds the first occurrence anywhere in the string\n",
    "    search_result = re.search(r\"\\d{3}-\\d{3}-\\d{4}\", text)  # phone number pattern\n",
    "    print(\"Search result:\", search_result.group() if search_result else \"No match\")\n",
    "\n",
    "    # 3. re.findall(): Returns all occurrences of a pattern\n",
    "    emails = re.findall(r\"[a-zA-Z0-9._%+-]+@[a-zA-Z0-9.-]+\\.[a-z]{2,}\", text)\n",
    "    print(\"Findall emails:\", emails)\n",
    "\n",
    "    # 4. re.sub(): Replace matches with something else\n",
    "    masked_text = re.sub(r\"\\d\", \"*\", text)  # replace digits with *\n",
    "    print(\"Substitute digits:\", masked_text)\n",
    "\n",
    "    # 5. re.split(): Split text by a pattern\n",
    "    words = re.split(r\"\\s+\", text)  # split by whitespace\n",
    "    print(\"Split words:\", words)\n",
    "\n",
    "    # 6. Using groups with parentheses ()\n",
    "    name_text = \"Name: John, Age: 25\"\n",
    "    match = re.search(r\"Name: (\\w+), Age: (\\d+)\", name_text)\n",
    "    if match:\n",
    "        print(\"Captured groups:\", match.groups())  # ('John', '25')\n",
    "        print(\"Name:\", match.group(1))\n",
    "        print(\"Age:\", match.group(2))\n",
    "\n",
    "# Run examples\n",
    "if __name__ == \"__main__\":\n",
    "    regex_examples()\n"
   ]
  },
  {
   "cell_type": "code",
   "execution_count": null,
   "id": "8a9a7816",
   "metadata": {},
   "outputs": [],
   "source": [
    "\n"
   ]
  }
 ],
 "metadata": {
  "kernelspec": {
   "display_name": "AI",
   "language": "python",
   "name": "python3"
  },
  "language_info": {
   "codemirror_mode": {
    "name": "ipython",
    "version": 3
   },
   "file_extension": ".py",
   "mimetype": "text/x-python",
   "name": "python",
   "nbconvert_exporter": "python",
   "pygments_lexer": "ipython3",
   "version": "3.12.11"
  }
 },
 "nbformat": 4,
 "nbformat_minor": 5
}
