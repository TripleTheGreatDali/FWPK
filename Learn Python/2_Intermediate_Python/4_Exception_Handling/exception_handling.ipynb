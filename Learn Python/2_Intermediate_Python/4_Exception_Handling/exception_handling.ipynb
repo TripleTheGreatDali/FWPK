{
 "cells": [
  {
   "cell_type": "code",
   "execution_count": 2,
   "id": "d0eea2d1",
   "metadata": {},
   "outputs": [],
   "source": [
    "# try:\n",
    "#     # Code that might casue error\n",
    "# except ErrorType:\n",
    "#     # Code that runs if error occurs"
   ]
  },
  {
   "cell_type": "code",
   "execution_count": 3,
   "id": "8508e039",
   "metadata": {},
   "outputs": [
    {
     "name": "stdout",
     "output_type": "stream",
     "text": [
      "Invalid numbers\n"
     ]
    }
   ],
   "source": [
    "# Catching a specific error\n",
    "try:\n",
    "    num = int(\"abc\")\n",
    "except ValueError:\n",
    "    print(\"Invalid numbers\")"
   ]
  },
  {
   "cell_type": "code",
   "execution_count": null,
   "id": "738166c9",
   "metadata": {},
   "outputs": [
    {
     "name": "stdout",
     "output_type": "stream",
     "text": [
      "<class 'int'>\n"
     ]
    }
   ],
   "source": [
    "x = int(input(\"Enter a number\"))\n",
    "try:\n",
    "    x = int\n",
    "    print(x)\n",
    "except ValueError:\n",
    "    print(\"Enter int numbers\")"
   ]
  },
  {
   "cell_type": "code",
   "execution_count": 7,
   "id": "e53312a7",
   "metadata": {},
   "outputs": [
    {
     "name": "stdout",
     "output_type": "stream",
     "text": [
      "Cannot divide by zero\n"
     ]
    }
   ],
   "source": [
    "# Catching multiple errors\n",
    "try:\n",
    "    result = 10 / 0\n",
    "except ZeroDivisionError:\n",
    "    print(\"Cannot divide by zero\")\n",
    "except ValueError:\n",
    "    print(\"Invalid value\")\n"
   ]
  },
  {
   "cell_type": "code",
   "execution_count": 8,
   "id": "f7257c8a",
   "metadata": {},
   "outputs": [
    {
     "name": "stdout",
     "output_type": "stream",
     "text": [
      "Error: division by zero\n"
     ]
    }
   ],
   "source": [
    "# Catching any error\n",
    "try:\n",
    "    x = 1 / 0\n",
    "except Exception as e:\n",
    "    print(\"Error:\", e)\n"
   ]
  },
  {
   "cell_type": "code",
   "execution_count": 9,
   "id": "28133ddb",
   "metadata": {},
   "outputs": [
    {
     "name": "stdout",
     "output_type": "stream",
     "text": [
      "Conversion succeeded\n",
      "Always runs\n"
     ]
    }
   ],
   "source": [
    "# Using else and finally\n",
    "try:\n",
    "    num = int(\"10\")\n",
    "except ValueError:\n",
    "    print(\"Conversion failed\")\n",
    "else:\n",
    "    print(\"Conversion succeeded\")\n",
    "finally:\n",
    "    print(\"Always runs\")\n"
   ]
  },
  {
   "cell_type": "code",
   "execution_count": 10,
   "id": "0e65648c",
   "metadata": {},
   "outputs": [],
   "source": [
    "# Key Points\n",
    "\n",
    "# try: put risky code.\n",
    "\n",
    "# except: handle errors.\n",
    "\n",
    "# else: runs only if no error.\n",
    "\n",
    "# finally: always runs, good for cleanup.\n",
    "\n",
    "# Best practice: catch specific errors, not just Exception."
   ]
  },
  {
   "cell_type": "code",
   "execution_count": null,
   "id": "a07ce6b9",
   "metadata": {},
   "outputs": [],
   "source": []
  }
 ],
 "metadata": {
  "kernelspec": {
   "display_name": "AI",
   "language": "python",
   "name": "python3"
  },
  "language_info": {
   "codemirror_mode": {
    "name": "ipython",
    "version": 3
   },
   "file_extension": ".py",
   "mimetype": "text/x-python",
   "name": "python",
   "nbconvert_exporter": "python",
   "pygments_lexer": "ipython3",
   "version": "3.12.11"
  }
 },
 "nbformat": 4,
 "nbformat_minor": 5
}
