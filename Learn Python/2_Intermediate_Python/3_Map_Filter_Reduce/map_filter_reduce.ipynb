{
 "cells": [
  {
   "cell_type": "code",
   "execution_count": 1,
   "id": "0c3a46f2",
   "metadata": {},
   "outputs": [],
   "source": [
    "# map()\n",
    "\n",
    "# Applies a function to every item in an iterable.\n",
    "\n",
    "# Returns a map object (convert to list if needed)."
   ]
  },
  {
   "cell_type": "code",
   "execution_count": 2,
   "id": "792cc9b2",
   "metadata": {},
   "outputs": [],
   "source": [
    "# map(function, iterable)"
   ]
  },
  {
   "cell_type": "code",
   "execution_count": 3,
   "id": "41f74425",
   "metadata": {},
   "outputs": [],
   "source": [
    "nums = [1, 2, 3, 4]\n",
    "\n",
    "squares = list(map(lambda x:x**2, nums))\n",
    "str_nums = list(map(str, nums))"
   ]
  },
  {
   "cell_type": "code",
   "execution_count": 4,
   "id": "0fb21439",
   "metadata": {},
   "outputs": [],
   "source": [
    "# filter()\n",
    "\n",
    "# Filters elements based on a condition.\n",
    "\n",
    "# Keeps only items where the function returns True."
   ]
  },
  {
   "cell_type": "code",
   "execution_count": 5,
   "id": "88881650",
   "metadata": {},
   "outputs": [],
   "source": [
    "# filter(function, iterable)\n"
   ]
  },
  {
   "cell_type": "code",
   "execution_count": 6,
   "id": "b7bd758e",
   "metadata": {},
   "outputs": [],
   "source": [
    "nums = [1, 2, 3, 4, 5, 6]\n",
    "\n",
    "# keep even numbers\n",
    "evens = list(filter(lambda x: x % 2 == 0, nums))\n",
    "# [2, 4, 6]\n",
    "\n",
    "# keep words longer than 3 letters\n",
    "words = [\"cat\", \"lion\", \"tiger\", \"ox\"]\n",
    "long_words = list(filter(lambda w: len(w) > 3, words))\n",
    "# ['lion', 'tiger']\n"
   ]
  },
  {
   "cell_type": "code",
   "execution_count": 7,
   "id": "ffdce820",
   "metadata": {},
   "outputs": [],
   "source": [
    "# reduce()\n",
    "\n",
    "# Applies a rolling calculation to elements.\n",
    "\n",
    "# Must import from functools."
   ]
  },
  {
   "cell_type": "code",
   "execution_count": 9,
   "id": "e35b6063",
   "metadata": {},
   "outputs": [],
   "source": [
    "# from functools import reduce\n",
    "# reduce(function, iterable)\n"
   ]
  },
  {
   "cell_type": "code",
   "execution_count": 10,
   "id": "35cd6fd5",
   "metadata": {},
   "outputs": [],
   "source": [
    "from functools import reduce\n",
    "nums = [1, 2, 3, 4]\n",
    "\n",
    "# multiply all numbers\n",
    "product = reduce(lambda x, y: x * y, nums)\n",
    "# 24\n",
    "\n",
    "# find max\n",
    "max_num = reduce(lambda a, b: a if a > b else b, nums)\n",
    "# 4\n"
   ]
  },
  {
   "cell_type": "code",
   "execution_count": 11,
   "id": "40d436d7",
   "metadata": {},
   "outputs": [],
   "source": [
    "# When to Use\n",
    "\n",
    "# map(): when you want to transform all elements.\n",
    "\n",
    "# filter(): when you want to select specific elements.\n",
    "\n",
    "# reduce(): when you want to combine all elements into one result."
   ]
  },
  {
   "cell_type": "code",
   "execution_count": null,
   "id": "2536fe59",
   "metadata": {},
   "outputs": [],
   "source": []
  }
 ],
 "metadata": {
  "kernelspec": {
   "display_name": "AI",
   "language": "python",
   "name": "python3"
  },
  "language_info": {
   "codemirror_mode": {
    "name": "ipython",
    "version": 3
   },
   "file_extension": ".py",
   "mimetype": "text/x-python",
   "name": "python",
   "nbconvert_exporter": "python",
   "pygments_lexer": "ipython3",
   "version": "3.12.11"
  }
 },
 "nbformat": 4,
 "nbformat_minor": 5
}
