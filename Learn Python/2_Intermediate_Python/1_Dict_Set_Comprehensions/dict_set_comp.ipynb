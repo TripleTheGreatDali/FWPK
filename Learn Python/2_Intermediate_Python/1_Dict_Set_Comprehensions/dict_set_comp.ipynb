{
 "cells": [
  {
   "cell_type": "markdown",
   "id": "d4c14bde",
   "metadata": {},
   "source": [
    "# Dictionary and Set Comprehensions"
   ]
  },
  {
   "cell_type": "code",
   "execution_count": 1,
   "id": "9e37dc15",
   "metadata": {},
   "outputs": [],
   "source": [
    "# {key_expr: value_expr for item in iterable if condition}\n"
   ]
  },
  {
   "cell_type": "code",
   "execution_count": 2,
   "id": "491e2fc3",
   "metadata": {},
   "outputs": [],
   "source": [
    "# Square numbers as key-value pairs\n",
    "squares = {x: x**2 for x in range(6)}\n",
    "# {0:0, 1:1, 2:4, 3:9, 4:16, 5:25}\n"
   ]
  },
  {
   "cell_type": "code",
   "execution_count": 3,
   "id": "ac8ac48a",
   "metadata": {},
   "outputs": [],
   "source": [
    "# Filter even numbers\n",
    "even_squares = {x: x**2 for x in range(10) if x % 2 == 0}\n",
    "# {0:0, 2:4, 4:16, 6:36, 8:64}\n"
   ]
  },
  {
   "cell_type": "code",
   "execution_count": 4,
   "id": "6dbe93b2",
   "metadata": {},
   "outputs": [],
   "source": [
    "# Invert a dictionary\n",
    "data = {\"a\":1, \"b\":2, \"c\":3}\n",
    "inverted = {v:k for k,v in data.items()}\n",
    "# {1:\"a\", 2:\"b\", 3:\"c\"}\n"
   ]
  },
  {
   "cell_type": "code",
   "execution_count": 6,
   "id": "f617d10c",
   "metadata": {},
   "outputs": [],
   "source": [
    "# Set Comprehension\n",
    "# {expression for item in iterable if condition}\n",
    "\n"
   ]
  },
  {
   "cell_type": "code",
   "execution_count": 7,
   "id": "e57b2c3b",
   "metadata": {},
   "outputs": [],
   "source": [
    "# Unique squares\n",
    "squares = {x**2 for x in range(6)}\n",
    "# {0,1,4,9,16,25}\n"
   ]
  },
  {
   "cell_type": "code",
   "execution_count": 8,
   "id": "885dc191",
   "metadata": {},
   "outputs": [],
   "source": [
    "# First letters of words\n",
    "words = [\"apple\", \"banana\", \"cherry\", \"avocado\"]\n",
    "first_letters = {w[0] for w in words}\n",
    "# {\"a\",\"b\",\"c\"}\n"
   ]
  },
  {
   "cell_type": "code",
   "execution_count": 9,
   "id": "e7813f05",
   "metadata": {},
   "outputs": [],
   "source": [
    "# Remove duplicates while processing\n",
    "nums = [1,2,2,3,4,4,5]\n",
    "unique_evens = {x for x in nums if x % 2 == 0}\n",
    "# {2,4}\n"
   ]
  },
  {
   "cell_type": "code",
   "execution_count": null,
   "id": "abb21607",
   "metadata": {},
   "outputs": [],
   "source": [
    "# Benefits\n",
    "\n",
    "# Short, clear, and efficient.\n",
    "\n",
    "# Removes need for loops plus manual .add() or .update() calls.\n",
    "\n",
    "# Ideal for transformations and filtering."
   ]
  }
 ],
 "metadata": {
  "kernelspec": {
   "display_name": "AI",
   "language": "python",
   "name": "python3"
  },
  "language_info": {
   "codemirror_mode": {
    "name": "ipython",
    "version": 3
   },
   "file_extension": ".py",
   "mimetype": "text/x-python",
   "name": "python",
   "nbconvert_exporter": "python",
   "pygments_lexer": "ipython3",
   "version": "3.12.11"
  }
 },
 "nbformat": 4,
 "nbformat_minor": 5
}
