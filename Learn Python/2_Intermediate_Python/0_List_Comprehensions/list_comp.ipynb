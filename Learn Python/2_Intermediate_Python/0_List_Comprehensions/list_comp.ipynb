{
 "cells": [
  {
   "cell_type": "markdown",
   "id": "9e40ac3d",
   "metadata": {},
   "source": [
    "# Python List Comprehensions\n",
    "<h5> A compact way to crate list </h5>\n",
    "<h5> Replaces for loops with a single line. </h5>\n",
    "<h5> Improves readability and reduces code length. </h5>"
   ]
  },
  {
   "cell_type": "code",
   "execution_count": 2,
   "id": "bc0a631e",
   "metadata": {},
   "outputs": [],
   "source": [
    "# Basic Syntax\n",
    "# [expression for item in iterable if condition]"
   ]
  },
  {
   "cell_type": "code",
   "execution_count": 6,
   "id": "29b192b5",
   "metadata": {},
   "outputs": [
    {
     "name": "stdout",
     "output_type": "stream",
     "text": [
      "[0, 1, 4, 9, 16, 25, 36, 49, 64, 81]\n"
     ]
    }
   ],
   "source": [
    "# Square numbers 0 to 9\n",
    "squares = [x**2 for x in range(10)]\n",
    "print(squares)\n",
    "# Even numbers 0 to 20\n",
    "evens = [x for x in range(21) if x % 2 == 0]\n",
    "# First letters of words\n",
    "words = [\"apple\", \"banana\", \"cherry\"]\n",
    "first_letters = [w[0] for w in words]\n",
    "# Flatten a 2D list\\\n",
    "matrix = [[1,2,3],[4,5,6],[7,8,9]]\n",
    "flat = [num for row in matrix for num in row]\n"
   ]
  },
  {
   "cell_type": "code",
   "execution_count": 7,
   "id": "f7b158c2",
   "metadata": {},
   "outputs": [],
   "source": [
    "# # Key Benefits\n",
    "# Shorter than for loops.\n",
    "\n",
    "# Easier to read when not nested too deeply.\n",
    "\n",
    "# Faster in execution than regular loops in many cases."
   ]
  },
  {
   "cell_type": "code",
   "execution_count": null,
   "id": "3a2590b4",
   "metadata": {},
   "outputs": [],
   "source": []
  }
 ],
 "metadata": {
  "kernelspec": {
   "display_name": "AI",
   "language": "python",
   "name": "python3"
  },
  "language_info": {
   "codemirror_mode": {
    "name": "ipython",
    "version": 3
   },
   "file_extension": ".py",
   "mimetype": "text/x-python",
   "name": "python",
   "nbconvert_exporter": "python",
   "pygments_lexer": "ipython3",
   "version": "3.12.11"
  }
 },
 "nbformat": 4,
 "nbformat_minor": 5
}
